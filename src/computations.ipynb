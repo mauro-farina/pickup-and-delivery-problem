{
 "cells": [
  {
   "cell_type": "code",
   "id": "initial_id",
   "metadata": {
    "collapsed": true,
    "ExecuteTime": {
     "end_time": "2024-04-30T12:36:43.496531Z",
     "start_time": "2024-04-30T12:36:42.809835Z"
    }
   },
   "source": [
    "from pathlib import Path\n",
    "\n",
    "from src.lyu import Lyu\n",
    "from src.rais import Rais\n",
    "from src.sampaio import Sampaio\n",
    "\n",
    "import utils"
   ],
   "outputs": [],
   "execution_count": 1
  },
  {
   "cell_type": "markdown",
   "source": [
    "# PDPT - General Performance\n",
    "Pickup-and-Delivery Problem With Transshipments"
   ],
   "metadata": {
    "collapsed": false
   },
   "id": "724f224c1d40caab"
  },
  {
   "cell_type": "code",
   "source": [
    "pdpt_data_dir = Path(\"../data/PDPT\")\n",
    "pdpt_instances = utils.pick_pdpt_instances(5, 4, 'Rais')"
   ],
   "metadata": {
    "collapsed": false,
    "ExecuteTime": {
     "end_time": "2024-04-09T13:25:40.259244Z",
     "start_time": "2024-04-09T13:25:40.233015Z"
    }
   },
   "id": "27a51b81efd3192d",
   "outputs": [],
   "execution_count": 2
  },
  {
   "cell_type": "code",
   "source": [
    "pdpt_instances"
   ],
   "metadata": {
    "collapsed": false,
    "ExecuteTime": {
     "end_time": "2024-04-09T13:25:57.426690Z",
     "start_time": "2024-04-09T13:25:57.407413Z"
    }
   },
   "id": "a65b58852d085678",
   "outputs": [
    {
     "data": {
      "text/plain": [
       "['PDPT-R5-K2-T1-Q100-8.txt',\n",
       " 'PDPT-R5-K2-T1-Q100-0.txt',\n",
       " 'PDPT-R5-K2-T1-Q100-7.txt',\n",
       " 'PDPT-R5-K2-T1-Q100-6.txt',\n",
       " 'PDPT-R5-K2-T2-Q100-7.txt',\n",
       " 'PDPT-R5-K2-T2-Q100-6.txt',\n",
       " 'PDPT-R5-K2-T2-Q100-8.txt',\n",
       " 'PDPT-R5-K2-T2-Q100-3.txt',\n",
       " 'PDPT-R5-K3-T3-Q100-9.txt',\n",
       " 'PDPT-R5-K3-T3-Q100-0.txt',\n",
       " 'PDPT-R5-K3-T3-Q100-6.txt',\n",
       " 'PDPT-R5-K3-T3-Q100-7.txt',\n",
       " 'PDPT-R7-K2-T1-Q100-4.txt',\n",
       " 'PDPT-R7-K2-T1-Q100-1.txt',\n",
       " 'PDPT-R7-K2-T1-Q100-2.txt',\n",
       " 'PDPT-R7-K2-T1-Q100-3.txt',\n",
       " 'PDPT-R7-K2-T2-Q100-4.txt',\n",
       " 'PDPT-R7-K2-T2-Q100-8.txt',\n",
       " 'PDPT-R7-K2-T2-Q100-1.txt',\n",
       " 'PDPT-R7-K2-T2-Q100-5.txt']"
      ]
     },
     "execution_count": 3,
     "metadata": {},
     "output_type": "execute_result"
    }
   ],
   "execution_count": 3
  },
  {
   "cell_type": "code",
   "source": [
    "for instances_dir in pdpt_data_dir.iterdir():\n",
    "    if not instances_dir.is_dir():\n",
    "        continue\n",
    "    \n",
    "    for instance in instances_dir.iterdir():\n",
    "        if not instance.is_file() or instance.name not in pdpt_instances:\n",
    "            continue\n",
    "\n",
    "        graph, vehicles, requests = utils.get_instance_data(instance)\n",
    "        \n",
    "        rais = Rais(graph, vehicles, requests)\n",
    "        rais.optimize()\n",
    "        \n",
    "        result = rais.get_result()\n",
    "        utils.log_result('PDPT', 'Rais', instance.name, result)\n",
    "        \n",
    "        lyu = Lyu(graph, vehicles, requests)\n",
    "        lyu.optimize()\n",
    "        \n",
    "        result = lyu.get_result()\n",
    "        utils.log_result('PDPT', 'Lyu', instance.name, result)\n",
    "        \n",
    "        print(instance.name, 'completed')"
   ],
   "metadata": {
    "collapsed": false,
    "ExecuteTime": {
     "end_time": "2024-04-08T11:50:44.506738Z",
     "start_time": "2024-04-08T06:50:50.703977Z"
    }
   },
   "id": "36d5d2b23536cd9d",
   "outputs": [
    {
     "name": "stdout",
     "output_type": "stream",
     "text": [
      "Set parameter Username\n",
      "Academic license - for non-commercial use only - expires 2025-03-08\n",
      "PDPT-R5-K2-T1-Q100-0.txt completed\n",
      "PDPT-R5-K2-T1-Q100-6.txt completed\n",
      "PDPT-R5-K2-T1-Q100-7.txt completed\n",
      "PDPT-R5-K2-T1-Q100-8.txt completed\n",
      "PDPT-R5-K2-T2-Q100-3.txt completed\n",
      "PDPT-R5-K2-T2-Q100-6.txt completed\n",
      "PDPT-R5-K2-T2-Q100-7.txt completed\n",
      "PDPT-R5-K2-T2-Q100-8.txt completed\n",
      "PDPT-R5-K3-T3-Q100-0.txt completed\n",
      "PDPT-R5-K3-T3-Q100-6.txt completed\n",
      "PDPT-R5-K3-T3-Q100-7.txt completed\n",
      "PDPT-R5-K3-T3-Q100-9.txt completed\n",
      "PDPT-R7-K2-T1-Q100-1.txt completed\n",
      "PDPT-R7-K2-T1-Q100-2.txt completed\n",
      "PDPT-R7-K2-T1-Q100-3.txt completed\n",
      "PDPT-R7-K2-T1-Q100-4.txt completed\n",
      "PDPT-R7-K2-T2-Q100-1.txt completed\n",
      "PDPT-R7-K2-T2-Q100-4.txt completed\n",
      "PDPT-R7-K2-T2-Q100-5.txt completed\n",
      "PDPT-R7-K2-T2-Q100-8.txt completed\n"
     ]
    }
   ],
   "execution_count": 4
  },
  {
   "cell_type": "markdown",
   "source": [
    "# PDPTW - General Performance\n",
    "Pickup-and-Delivery Problem With Transshipments and Time Windows constraints"
   ],
   "metadata": {
    "collapsed": false
   },
   "id": "ed72b24c3f5f2059"
  },
  {
   "metadata": {
    "ExecuteTime": {
     "end_time": "2024-04-29T07:59:08.838903Z",
     "start_time": "2024-04-29T07:59:08.831343Z"
    }
   },
   "cell_type": "code",
   "source": "pdptwt_data_dir = Path(\"../data/PDPTWT\")",
   "id": "869f2a69330cb3f7",
   "outputs": [],
   "execution_count": 2
  },
  {
   "metadata": {},
   "cell_type": "markdown",
   "source": "## Fixed Driver Shift Length (240)",
   "id": "c0d5dbb3c2769314"
  },
  {
   "cell_type": "code",
   "source": "pdptwt_instances = utils.pick_pdptwt_instances(2, 'Sampaio', skip=['180', '300', '5T'])",
   "metadata": {
    "collapsed": false,
    "ExecuteTime": {
     "end_time": "2024-04-28T09:44:52.392060Z",
     "start_time": "2024-04-28T09:44:52.318971Z"
    }
   },
   "id": "401c3302e9a32acc",
   "outputs": [],
   "execution_count": 3
  },
  {
   "cell_type": "code",
   "source": "pdptwt_instances",
   "metadata": {
    "collapsed": false,
    "ExecuteTime": {
     "end_time": "2024-04-28T09:44:53.212132Z",
     "start_time": "2024-04-28T09:44:53.193160Z"
    }
   },
   "id": "47e4880cd21ce6e",
   "outputs": [
    {
     "data": {
      "text/plain": [
       "['3R-4K-4T-240L-4.txt',\n",
       " '3R-4K-4T-240L-7.txt',\n",
       " '3R-4K-4T-240M-8.txt',\n",
       " '3R-4K-4T-240M-1.txt',\n",
       " '3R-4K-4T-240S-6.txt',\n",
       " '3R-4K-4T-240S-4.txt',\n",
       " '4R-4K-4T-240L-6.txt',\n",
       " '4R-4K-4T-240L-3.txt',\n",
       " '4R-4K-4T-240M-8.txt',\n",
       " '4R-4K-4T-240M-6.txt',\n",
       " '4R-4K-4T-240S-4.txt',\n",
       " '4R-4K-4T-240S-5.txt',\n",
       " '5R-4K-4T-240L-8.txt',\n",
       " '5R-4K-4T-240L-2.txt',\n",
       " '5R-4K-4T-240M-6.txt',\n",
       " '5R-4K-4T-240M-0.txt',\n",
       " '5R-4K-4T-240S-0.txt',\n",
       " '5R-4K-4T-240S-5.txt']"
      ]
     },
     "execution_count": 4,
     "metadata": {},
     "output_type": "execute_result"
    }
   ],
   "execution_count": 4
  },
  {
   "cell_type": "code",
   "source": [
    "for instances_dir in pdptwt_data_dir.iterdir():\n",
    "    if not instances_dir.is_dir():\n",
    "        continue\n",
    "    \n",
    "    for instance in instances_dir.iterdir():\n",
    "        if not instance.is_file() or instance.name not in pdptwt_instances:\n",
    "            continue\n",
    "\n",
    "        graph, vehicles, requests = utils.get_instance_data(instance, sampaio=True)\n",
    "        \n",
    "        sampaio = Sampaio(graph, vehicles, requests)\n",
    "        sampaio.optimize()\n",
    "        \n",
    "        result = sampaio.get_result()\n",
    "        utils.log_result('PDPTWT', 'Sampaio', instance.name, result)\n",
    "        \n",
    "        graph, vehicles, requests = utils.get_instance_data(instance, sampaio=False)\n",
    "        \n",
    "        lyu = Lyu(graph, vehicles, requests)\n",
    "        lyu.optimize()\n",
    "        \n",
    "        result = lyu.get_result()\n",
    "        utils.log_result('PDPTWT', 'Lyu', instance.name, result)\n",
    "        \n",
    "        print(instance.name, 'completed')"
   ],
   "metadata": {
    "collapsed": false,
    "ExecuteTime": {
     "end_time": "2024-04-28T14:59:08.973045Z",
     "start_time": "2024-04-28T09:45:05.708062Z"
    }
   },
   "id": "b7b034a4872bb458",
   "outputs": [
    {
     "name": "stdout",
     "output_type": "stream",
     "text": [
      "Set parameter Username\n",
      "Academic license - for non-commercial use only - expires 2025-03-08\n",
      "3R-4K-4T-240L-4.txt completed\n",
      "3R-4K-4T-240L-7.txt completed\n",
      "3R-4K-4T-240M-1.txt completed\n",
      "3R-4K-4T-240M-8.txt completed\n",
      "3R-4K-4T-240S-4.txt completed\n",
      "3R-4K-4T-240S-6.txt completed\n",
      "4R-4K-4T-240L-3.txt completed\n",
      "4R-4K-4T-240L-6.txt completed\n",
      "4R-4K-4T-240M-6.txt completed\n",
      "4R-4K-4T-240M-8.txt completed\n",
      "4R-4K-4T-240S-4.txt completed\n",
      "4R-4K-4T-240S-5.txt completed\n",
      "5R-4K-4T-240L-2.txt completed\n",
      "5R-4K-4T-240L-8.txt completed\n",
      "5R-4K-4T-240M-0.txt completed\n",
      "5R-4K-4T-240M-6.txt completed\n",
      "5R-4K-4T-240S-0.txt completed\n",
      "5R-4K-4T-240S-5.txt completed\n"
     ]
    }
   ],
   "execution_count": 5
  },
  {
   "metadata": {},
   "cell_type": "markdown",
   "source": "## Fixed Request Distance (M)",
   "id": "2fb75b6d9a7f90ba"
  },
  {
   "metadata": {
    "ExecuteTime": {
     "end_time": "2024-04-29T07:59:49.029273Z",
     "start_time": "2024-04-29T07:59:48.947706Z"
    }
   },
   "cell_type": "code",
   "source": "pdptwt_instances = utils.pick_pdptwt_instances(2, 'Sampaio', skip=['L-', 'S-', '5T'])",
   "id": "199a5591f77d3d8b",
   "outputs": [],
   "execution_count": 3
  },
  {
   "metadata": {
    "ExecuteTime": {
     "end_time": "2024-04-29T07:59:59.334873Z",
     "start_time": "2024-04-29T07:59:59.317999Z"
    }
   },
   "cell_type": "code",
   "source": "pdptwt_instances",
   "id": "a8a0adfc7653f945",
   "outputs": [
    {
     "data": {
      "text/plain": [
       "['3R-4K-4T-180M-0.txt',\n",
       " '3R-4K-4T-180M-8.txt',\n",
       " '3R-4K-4T-240M-8.txt',\n",
       " '3R-4K-4T-240M-1.txt',\n",
       " '3R-4K-4T-300M-8.txt',\n",
       " '3R-4K-4T-300M-1.txt',\n",
       " '4R-4K-4T-180M-3.txt',\n",
       " '4R-4K-4T-180M-6.txt',\n",
       " '4R-4K-4T-240M-8.txt',\n",
       " '4R-4K-4T-240M-6.txt',\n",
       " '4R-4K-4T-300M-8.txt',\n",
       " '4R-4K-4T-300M-3.txt',\n",
       " '5R-4K-4T-180M-8.txt',\n",
       " '5R-4K-4T-180M-7.txt',\n",
       " '5R-4K-4T-240M-6.txt',\n",
       " '5R-4K-4T-240M-0.txt',\n",
       " '5R-4K-4T-300M-8.txt',\n",
       " '5R-4K-4T-300M-0.txt']"
      ]
     },
     "execution_count": 4,
     "metadata": {},
     "output_type": "execute_result"
    }
   ],
   "execution_count": 4
  },
  {
   "metadata": {
    "ExecuteTime": {
     "end_time": "2024-04-29T15:13:33.202947Z",
     "start_time": "2024-04-29T08:01:55.823715Z"
    }
   },
   "cell_type": "code",
   "source": [
    "for instances_dir in pdptwt_data_dir.iterdir():\n",
    "    if not instances_dir.is_dir():\n",
    "        continue\n",
    "\n",
    "    for instance in instances_dir.iterdir():\n",
    "        if not instance.is_file() or instance.name not in pdptwt_instances:\n",
    "            continue\n",
    "\n",
    "        graph, vehicles, requests = utils.get_instance_data(instance, sampaio=True)\n",
    "\n",
    "        sampaio = Sampaio(graph, vehicles, requests)\n",
    "        sampaio.optimize()\n",
    "\n",
    "        result = sampaio.get_result()\n",
    "        utils.log_result('PDPTWT-VARY-SHIFT', 'Sampaio', instance.name, result)\n",
    "        \n",
    "        graph, vehicles, requests = utils.get_instance_data(instance, sampaio=False)\n",
    "\n",
    "        lyu = Lyu(graph, vehicles, requests)\n",
    "        lyu.optimize()\n",
    "\n",
    "        result = lyu.get_result()\n",
    "        utils.log_result('PDPTWT-VARY-SHIFT', 'Lyu', instance.name, result)\n",
    "\n",
    "        print(instance.name, 'completed')"
   ],
   "id": "d82863b8eca4435f",
   "outputs": [
    {
     "name": "stdout",
     "output_type": "stream",
     "text": [
      "Set parameter Username\n",
      "Academic license - for non-commercial use only - expires 2025-03-08\n",
      "3R-4K-4T-180M-0.txt completed\n",
      "3R-4K-4T-180M-8.txt completed\n",
      "3R-4K-4T-240M-1.txt completed\n",
      "3R-4K-4T-240M-8.txt completed\n",
      "3R-4K-4T-300M-1.txt completed\n",
      "3R-4K-4T-300M-8.txt completed\n",
      "4R-4K-4T-180M-3.txt completed\n",
      "4R-4K-4T-180M-6.txt completed\n",
      "4R-4K-4T-240M-6.txt completed\n",
      "4R-4K-4T-240M-8.txt completed\n",
      "4R-4K-4T-300M-3.txt completed\n",
      "4R-4K-4T-300M-8.txt completed\n",
      "5R-4K-4T-180M-7.txt completed\n",
      "5R-4K-4T-180M-8.txt completed\n",
      "5R-4K-4T-240M-0.txt completed\n",
      "5R-4K-4T-240M-6.txt completed\n",
      "5R-4K-4T-300M-0.txt completed\n",
      "5R-4K-4T-300M-8.txt completed\n"
     ]
    }
   ],
   "execution_count": 5
  },
  {
   "metadata": {},
   "cell_type": "markdown",
   "source": "# PDPT - Lyu model scalability on #requests",
   "id": "99708bd4a395f8a9"
  },
  {
   "metadata": {
    "ExecuteTime": {
     "end_time": "2024-04-13T08:15:35.720414Z",
     "start_time": "2024-04-13T08:15:35.677482Z"
    }
   },
   "cell_type": "code",
   "source": [
    "pdpt_data_dir = Path(\"../data/PDPT\")\n",
    "pdpt_scale_req_instances = utils.pick_pdpt_instances(16, 4, 'Lyu', skip=['R7', 'R12', 'R25', 'T2', 'T3'])"
   ],
   "id": "ccf088849a88e162",
   "outputs": [],
   "execution_count": 2
  },
  {
   "metadata": {
    "ExecuteTime": {
     "end_time": "2024-04-13T08:15:39.089539Z",
     "start_time": "2024-04-13T08:15:39.073257Z"
    }
   },
   "cell_type": "code",
   "source": "pdpt_scale_req_instances",
   "id": "57738fa8d2b41678",
   "outputs": [
    {
     "data": {
      "text/plain": [
       "['PDPT-R5-K2-T1-Q100-4.txt',\n",
       " 'PDPT-R5-K2-T1-Q100-8.txt',\n",
       " 'PDPT-R5-K2-T1-Q100-3.txt',\n",
       " 'PDPT-R5-K2-T1-Q100-7.txt',\n",
       " 'PDPT-R10-K2-T1-Q100-1.txt',\n",
       " 'PDPT-R10-K2-T1-Q100-4.txt',\n",
       " 'PDPT-R10-K2-T1-Q100-8.txt',\n",
       " 'PDPT-R10-K2-T1-Q100-7.txt',\n",
       " 'PDPT-R15-K2-T1-Q100-2.txt',\n",
       " 'PDPT-R15-K2-T1-Q100-9.txt',\n",
       " 'PDPT-R15-K2-T1-Q100-6.txt',\n",
       " 'PDPT-R15-K2-T1-Q100-4.txt',\n",
       " 'PDPT-R20-K2-T1-Q100-4.txt',\n",
       " 'PDPT-R20-K2-T1-Q100-1.txt',\n",
       " 'PDPT-R20-K2-T1-Q100-2.txt',\n",
       " 'PDPT-R20-K2-T1-Q100-7.txt']"
      ]
     },
     "execution_count": 3,
     "metadata": {},
     "output_type": "execute_result"
    }
   ],
   "execution_count": 3
  },
  {
   "metadata": {
    "ExecuteTime": {
     "start_time": "2024-04-13T08:16:32.193057Z"
    }
   },
   "cell_type": "code",
   "source": [
    "for instances_dir in pdpt_data_dir.iterdir():\n",
    "    if not instances_dir.is_dir():\n",
    "        continue\n",
    "    \n",
    "    for instance in instances_dir.iterdir():\n",
    "        if not instance.is_file() or instance.name not in pdpt_scale_req_instances:\n",
    "            continue\n",
    "\n",
    "        graph, vehicles, requests = utils.get_instance_data(instance)\n",
    "        \n",
    "        lyu = Lyu(graph, vehicles, requests)\n",
    "        lyu.optimize()\n",
    "        \n",
    "        result = lyu.get_result()\n",
    "        utils.log_result('PDPT-Lyu-scalability-R', 'Lyu', instance.name, result)\n",
    "        \n",
    "        print(instance.name, 'completed')"
   ],
   "id": "7e6eb5e43684088e",
   "outputs": [
    {
     "name": "stdout",
     "output_type": "stream",
     "text": [
      "Set parameter Username\n",
      "Academic license - for non-commercial use only - expires 2025-03-08\n",
      "PDPT-R10-K2-T1-Q100-1.txt completed\n",
      "PDPT-R10-K2-T1-Q100-4.txt completed\n",
      "PDPT-R10-K2-T1-Q100-7.txt completed\n",
      "PDPT-R10-K2-T1-Q100-8.txt completed\n",
      "PDPT-R15-K2-T1-Q100-2.txt completed\n",
      "PDPT-R15-K2-T1-Q100-4.txt completed\n",
      "PDPT-R15-K2-T1-Q100-6.txt completed\n",
      "PDPT-R15-K2-T1-Q100-9.txt completed\n",
      "PDPT-R20-K2-T1-Q100-1.txt completed\n",
      "PDPT-R20-K2-T1-Q100-2.txt completed\n"
     ]
    }
   ],
   "execution_count": null
  },
  {
   "metadata": {},
   "cell_type": "markdown",
   "source": "# PDPT - Rais model with valid inequalities",
   "id": "33ba101f9318264d"
  },
  {
   "metadata": {
    "ExecuteTime": {
     "end_time": "2024-04-13T13:17:16.099345Z",
     "start_time": "2024-04-13T13:17:16.069156Z"
    }
   },
   "cell_type": "code",
   "source": [
    "pdpt_data_dir = Path(\"../data/PDPT\")\n",
    "pdpt_scale_req_instances = utils.pick_pdpt_instances(1, 10, 'Rais')"
   ],
   "id": "d6567732e5df400e",
   "outputs": [],
   "execution_count": 2
  },
  {
   "metadata": {
    "ExecuteTime": {
     "end_time": "2024-04-13T13:17:17.039662Z",
     "start_time": "2024-04-13T13:17:17.021880Z"
    }
   },
   "cell_type": "code",
   "source": "pdpt_scale_req_instances",
   "id": "9e81cf8265c0a98d",
   "outputs": [
    {
     "data": {
      "text/plain": [
       "['PDPT-R5-K2-T1-Q100-5.txt',\n",
       " 'PDPT-R5-K2-T1-Q100-4.txt',\n",
       " 'PDPT-R5-K2-T1-Q100-9.txt',\n",
       " 'PDPT-R5-K2-T1-Q100-8.txt',\n",
       " 'PDPT-R5-K2-T1-Q100-0.txt',\n",
       " 'PDPT-R5-K2-T1-Q100-7.txt',\n",
       " 'PDPT-R5-K2-T1-Q100-6.txt',\n",
       " 'PDPT-R5-K2-T1-Q100-2.txt',\n",
       " 'PDPT-R5-K2-T1-Q100-1.txt',\n",
       " 'PDPT-R5-K2-T1-Q100-3.txt']"
      ]
     },
     "execution_count": 3,
     "metadata": {},
     "output_type": "execute_result"
    }
   ],
   "execution_count": 3
  },
  {
   "metadata": {
    "ExecuteTime": {
     "end_time": "2024-04-13T13:53:16.195065Z",
     "start_time": "2024-04-13T13:39:58.204656Z"
    }
   },
   "cell_type": "code",
   "source": [
    "for instances_dir in pdpt_data_dir.iterdir():\n",
    "    if not instances_dir.is_dir():\n",
    "        continue\n",
    "    \n",
    "    for instance in instances_dir.iterdir():\n",
    "        if not instance.is_file() or instance.name not in pdpt_scale_req_instances:\n",
    "            continue\n",
    "\n",
    "        graph, vehicles, requests = utils.get_instance_data(instance)\n",
    "        \n",
    "        rais = Rais(graph, vehicles, requests, vi=False)\n",
    "        rais.optimize()\n",
    "        \n",
    "        result = rais.get_result()\n",
    "        utils.log_result('PDPT-Rais-with-vi', 'Rais', instance.name, result)\n",
    "        \n",
    "        rais_vi = Rais(graph, vehicles, requests, vi=True)\n",
    "        rais_vi.optimize()\n",
    "        \n",
    "        result = rais_vi.get_result()\n",
    "        utils.log_result('PDPT-Rais-with-vi', 'Rais_vi', instance.name, result)\n",
    "        \n",
    "        lyu = Lyu(graph, vehicles, requests)\n",
    "        lyu.optimize()\n",
    "        \n",
    "        result = lyu.get_result()\n",
    "        utils.log_result('PDPT-Rais-with-vi', 'Lyu', instance.name, result)\n",
    "        \n",
    "        print(instance.name, 'completed')"
   ],
   "id": "5112ddd64d0355a5",
   "outputs": [
    {
     "name": "stdout",
     "output_type": "stream",
     "text": [
      "PDPT-R5-K2-T1-Q100-0.txt completed\n",
      "PDPT-R5-K2-T1-Q100-1.txt completed\n",
      "PDPT-R5-K2-T1-Q100-2.txt completed\n",
      "PDPT-R5-K2-T1-Q100-3.txt completed\n",
      "PDPT-R5-K2-T1-Q100-4.txt completed\n",
      "PDPT-R5-K2-T1-Q100-5.txt completed\n",
      "PDPT-R5-K2-T1-Q100-6.txt completed\n",
      "PDPT-R5-K2-T1-Q100-7.txt completed\n",
      "PDPT-R5-K2-T1-Q100-8.txt completed\n",
      "PDPT-R5-K2-T1-Q100-9.txt completed\n"
     ]
    }
   ],
   "execution_count": 5
  },
  {
   "metadata": {},
   "cell_type": "markdown",
   "source": "# (modified) Sampaio with Valid Inequalities - 3R4K4T-240",
   "id": "597a8d2ac81cd395"
  },
  {
   "metadata": {
    "ExecuteTime": {
     "end_time": "2024-04-30T12:43:04.457444Z",
     "start_time": "2024-04-30T12:43:04.394096Z"
    }
   },
   "cell_type": "code",
   "source": [
    "pdptwt_data_dir = Path(\"../data/PDPTWT\")\n",
    "pdptwt_instances = utils.pick_pdptwt_instances(10, 'Sampaio', skip=['4R', '5R', '5T', '180', '300'])"
   ],
   "id": "79767d4f789810ae",
   "outputs": [],
   "execution_count": 2
  },
  {
   "metadata": {
    "ExecuteTime": {
     "end_time": "2024-04-30T12:55:11.760770Z",
     "start_time": "2024-04-30T12:44:52.202076Z"
    }
   },
   "cell_type": "code",
   "source": [
    "for instances_dir in pdptwt_data_dir.iterdir():\n",
    "    if not instances_dir.is_dir():\n",
    "        continue\n",
    "    \n",
    "    for instance in instances_dir.iterdir():\n",
    "        if not instance.is_file() or instance.name not in pdptwt_instances:\n",
    "            continue\n",
    "\n",
    "        graph, vehicles, requests = utils.get_instance_data(instance, sampaio=True)\n",
    "        \n",
    "        sampaio = Sampaio(graph, vehicles, requests)\n",
    "        sampaio.optimize()\n",
    "        \n",
    "        result = sampaio.get_result()\n",
    "        utils.log_result('PDPTWT-vi', 'Sampaio', instance.name, result)\n",
    "        \n",
    "        graph, vehicles, requests = utils.get_instance_data(instance, sampaio=False)\n",
    "        \n",
    "        sampaio = Sampaio(graph, vehicles, requests, vi=True)\n",
    "        sampaio.optimize()\n",
    "        \n",
    "        result = sampaio.get_result()\n",
    "        utils.log_result('PDPTWT-vi', 'Sampaio_vi', instance.name, result)\n",
    "        \n",
    "        lyu = Lyu(graph, vehicles, requests)\n",
    "        lyu.optimize()\n",
    "        \n",
    "        result = lyu.get_result()\n",
    "        utils.log_result('PDPTWT-vi', 'Lyu', instance.name, result)\n",
    "        \n",
    "        print(instance.name, 'completed')"
   ],
   "id": "d346f409d6151bad",
   "outputs": [
    {
     "name": "stdout",
     "output_type": "stream",
     "text": [
      "Set parameter Username\n",
      "Academic license - for non-commercial use only - expires 2025-03-08\n",
      "3R-4K-4T-240L-0.txt completed\n",
      "3R-4K-4T-240L-1.txt completed\n",
      "3R-4K-4T-240L-2.txt completed\n",
      "3R-4K-4T-240L-3.txt completed\n",
      "3R-4K-4T-240L-4.txt completed\n",
      "3R-4K-4T-240L-5.txt completed\n",
      "3R-4K-4T-240L-6.txt completed\n",
      "3R-4K-4T-240L-7.txt completed\n",
      "3R-4K-4T-240L-8.txt completed\n",
      "3R-4K-4T-240L-9.txt completed\n",
      "3R-4K-4T-240M-0.txt completed\n",
      "3R-4K-4T-240M-1.txt completed\n",
      "3R-4K-4T-240M-2.txt completed\n",
      "3R-4K-4T-240M-3.txt completed\n",
      "3R-4K-4T-240M-4.txt completed\n",
      "3R-4K-4T-240M-5.txt completed\n",
      "3R-4K-4T-240M-6.txt completed\n",
      "3R-4K-4T-240M-7.txt completed\n",
      "3R-4K-4T-240M-8.txt completed\n",
      "3R-4K-4T-240M-9.txt completed\n",
      "3R-4K-4T-240S-0.txt completed\n",
      "3R-4K-4T-240S-1.txt completed\n",
      "3R-4K-4T-240S-2.txt completed\n",
      "3R-4K-4T-240S-3.txt completed\n",
      "3R-4K-4T-240S-4.txt completed\n",
      "3R-4K-4T-240S-5.txt completed\n",
      "3R-4K-4T-240S-6.txt completed\n",
      "3R-4K-4T-240S-7.txt completed\n",
      "3R-4K-4T-240S-8.txt completed\n",
      "3R-4K-4T-240S-9.txt completed\n"
     ]
    }
   ],
   "execution_count": 4
  },
  {
   "metadata": {},
   "cell_type": "markdown",
   "source": "# PDPT - scalability on #vehicle",
   "id": "b24cd8e4ddb30e9d"
  },
  {
   "metadata": {
    "ExecuteTime": {
     "end_time": "2024-04-14T09:45:18.138866Z",
     "start_time": "2024-04-14T09:45:18.128373Z"
    }
   },
   "cell_type": "code",
   "source": "pdpt_veh_data_dir = Path(\"../data/PDPT-vehicle\")",
   "id": "31d1148c666e1a9f",
   "outputs": [],
   "execution_count": 4
  },
  {
   "metadata": {},
   "cell_type": "markdown",
   "source": [
    "## Rais model\n",
    "expected to scale very poorly - focus on first 2 configurations (K=2 and K=4)"
   ],
   "id": "f7e7101492d32b6d"
  },
  {
   "metadata": {
    "ExecuteTime": {
     "end_time": "2024-04-14T09:45:19.821182Z",
     "start_time": "2024-04-14T09:45:19.803542Z"
    }
   },
   "cell_type": "code",
   "source": "pdpt_scale_req_instances_rais = utils.pick_pdpt_vehicles_instances(3, 2, 'Rais')",
   "id": "30a6368ab6c24e17",
   "outputs": [],
   "execution_count": 5
  },
  {
   "metadata": {
    "ExecuteTime": {
     "end_time": "2024-04-14T09:45:20.373516Z",
     "start_time": "2024-04-14T09:45:20.345528Z"
    }
   },
   "cell_type": "code",
   "source": "pdpt_scale_req_instances_rais",
   "id": "ca2cb0bafb3dd24b",
   "outputs": [
    {
     "data": {
      "text/plain": [
       "['PDPT-R5-K2-T1-6.txt',\n",
       " 'PDPT-R5-K2-T1-4.txt',\n",
       " 'PDPT-R5-K4-T1-9.txt',\n",
       " 'PDPT-R5-K4-T1-1.txt',\n",
       " 'PDPT-R5-K6-T1-8.txt',\n",
       " 'PDPT-R5-K6-T1-2.txt']"
      ]
     },
     "execution_count": 6,
     "metadata": {},
     "output_type": "execute_result"
    }
   ],
   "execution_count": 6
  },
  {
   "metadata": {
    "ExecuteTime": {
     "end_time": "2024-04-14T12:52:04.630029Z",
     "start_time": "2024-04-14T09:45:48.264743Z"
    }
   },
   "cell_type": "code",
   "source": [
    "for instance in pdpt_veh_data_dir.iterdir():\n",
    "    if not instance.is_file() or instance.name not in pdpt_scale_req_instances_rais:\n",
    "        continue\n",
    "\n",
    "    graph, vehicles, requests = utils.get_instance_data(instance)\n",
    "    \n",
    "    rais = Rais(graph, vehicles, requests)\n",
    "    rais.optimize()\n",
    "    \n",
    "    result = rais.get_result()\n",
    "    utils.log_result('PDPT-vehicles', 'Rais', instance.name, result)\n",
    "    \n",
    "    print(instance.name, 'completed')"
   ],
   "id": "654c7061e46b9a0a",
   "outputs": [
    {
     "name": "stdout",
     "output_type": "stream",
     "text": [
      "Set parameter Username\n",
      "Academic license - for non-commercial use only - expires 2025-03-08\n",
      "PDPT-R5-K2-T1-4.txt completed\n",
      "PDPT-R5-K2-T1-6.txt completed\n",
      "PDPT-R5-K4-T1-1.txt completed\n",
      "PDPT-R5-K4-T1-9.txt completed\n",
      "PDPT-R5-K6-T1-2.txt completed\n",
      "PDPT-R5-K6-T1-8.txt completed\n"
     ]
    }
   ],
   "execution_count": 7
  },
  {
   "metadata": {},
   "cell_type": "markdown",
   "source": [
    "## Lyu model\n",
    "scales very well -> compute on all instances"
   ],
   "id": "111c08ba6a796b9"
  },
  {
   "metadata": {
    "ExecuteTime": {
     "end_time": "2024-04-14T09:17:51.709590Z",
     "start_time": "2024-04-14T09:03:34.325481Z"
    }
   },
   "cell_type": "code",
   "source": [
    "for instance in pdpt_veh_data_dir.iterdir():\n",
    "    if not instance.is_file():\n",
    "        continue\n",
    "\n",
    "    graph, vehicles, requests = utils.get_instance_data(instance)\n",
    "\n",
    "    lyu = Lyu(graph, vehicles, requests)\n",
    "    lyu.optimize()\n",
    "    \n",
    "    result = lyu.get_result()\n",
    "    utils.log_result('PDPT-vehicles', 'Lyu', instance.name, result)\n",
    "    \n",
    "    print(instance.name, 'completed')"
   ],
   "id": "f095bb58ccc81133",
   "outputs": [
    {
     "name": "stdout",
     "output_type": "stream",
     "text": [
      "Set parameter Username\n",
      "Academic license - for non-commercial use only - expires 2025-03-08\n",
      "PDPT-R5-K10-T1-0.txt completed\n",
      "PDPT-R5-K10-T1-1.txt completed\n",
      "PDPT-R5-K10-T1-2.txt completed\n",
      "PDPT-R5-K10-T1-3.txt completed\n",
      "PDPT-R5-K10-T1-4.txt completed\n",
      "PDPT-R5-K10-T1-5.txt completed\n",
      "PDPT-R5-K10-T1-6.txt completed\n",
      "PDPT-R5-K10-T1-7.txt completed\n",
      "PDPT-R5-K10-T1-8.txt completed\n",
      "PDPT-R5-K10-T1-9.txt completed\n",
      "PDPT-R5-K12-T1-0.txt completed\n",
      "PDPT-R5-K12-T1-1.txt completed\n",
      "PDPT-R5-K12-T1-2.txt completed\n",
      "PDPT-R5-K12-T1-3.txt completed\n",
      "PDPT-R5-K12-T1-4.txt completed\n",
      "PDPT-R5-K12-T1-5.txt completed\n",
      "PDPT-R5-K12-T1-6.txt completed\n",
      "PDPT-R5-K12-T1-7.txt completed\n",
      "PDPT-R5-K12-T1-8.txt completed\n",
      "PDPT-R5-K12-T1-9.txt completed\n",
      "PDPT-R5-K14-T1-0.txt completed\n",
      "PDPT-R5-K14-T1-1.txt completed\n",
      "PDPT-R5-K14-T1-2.txt completed\n",
      "PDPT-R5-K14-T1-3.txt completed\n",
      "PDPT-R5-K14-T1-4.txt completed\n",
      "PDPT-R5-K14-T1-5.txt completed\n",
      "PDPT-R5-K14-T1-6.txt completed\n",
      "PDPT-R5-K14-T1-7.txt completed\n",
      "PDPT-R5-K14-T1-8.txt completed\n",
      "PDPT-R5-K14-T1-9.txt completed\n",
      "PDPT-R5-K16-T1-0.txt completed\n",
      "PDPT-R5-K16-T1-1.txt completed\n",
      "PDPT-R5-K16-T1-2.txt completed\n",
      "PDPT-R5-K16-T1-3.txt completed\n",
      "PDPT-R5-K16-T1-4.txt completed\n",
      "PDPT-R5-K16-T1-5.txt completed\n",
      "PDPT-R5-K16-T1-6.txt completed\n",
      "PDPT-R5-K16-T1-7.txt completed\n",
      "PDPT-R5-K16-T1-8.txt completed\n",
      "PDPT-R5-K16-T1-9.txt completed\n",
      "PDPT-R5-K18-T1-0.txt completed\n",
      "PDPT-R5-K18-T1-1.txt completed\n",
      "PDPT-R5-K18-T1-2.txt completed\n",
      "PDPT-R5-K18-T1-3.txt completed\n",
      "PDPT-R5-K18-T1-4.txt completed\n",
      "PDPT-R5-K18-T1-5.txt completed\n",
      "PDPT-R5-K18-T1-6.txt completed\n",
      "PDPT-R5-K18-T1-7.txt completed\n",
      "PDPT-R5-K18-T1-8.txt completed\n",
      "PDPT-R5-K18-T1-9.txt completed\n",
      "PDPT-R5-K2-T1-0.txt completed\n",
      "PDPT-R5-K2-T1-1.txt completed\n",
      "PDPT-R5-K2-T1-2.txt completed\n",
      "PDPT-R5-K2-T1-3.txt completed\n",
      "PDPT-R5-K2-T1-4.txt completed\n",
      "PDPT-R5-K2-T1-5.txt completed\n",
      "PDPT-R5-K2-T1-6.txt completed\n",
      "PDPT-R5-K2-T1-7.txt completed\n",
      "PDPT-R5-K2-T1-8.txt completed\n",
      "PDPT-R5-K2-T1-9.txt completed\n",
      "PDPT-R5-K20-T1-0.txt completed\n",
      "PDPT-R5-K20-T1-1.txt completed\n",
      "PDPT-R5-K20-T1-2.txt completed\n",
      "PDPT-R5-K20-T1-3.txt completed\n",
      "PDPT-R5-K20-T1-4.txt completed\n",
      "PDPT-R5-K20-T1-5.txt completed\n",
      "PDPT-R5-K20-T1-6.txt completed\n",
      "PDPT-R5-K20-T1-7.txt completed\n",
      "PDPT-R5-K20-T1-8.txt completed\n",
      "PDPT-R5-K20-T1-9.txt completed\n",
      "PDPT-R5-K4-T1-0.txt completed\n",
      "PDPT-R5-K4-T1-1.txt completed\n",
      "PDPT-R5-K4-T1-2.txt completed\n",
      "PDPT-R5-K4-T1-3.txt completed\n",
      "PDPT-R5-K4-T1-4.txt completed\n",
      "PDPT-R5-K4-T1-5.txt completed\n",
      "PDPT-R5-K4-T1-6.txt completed\n",
      "PDPT-R5-K4-T1-7.txt completed\n",
      "PDPT-R5-K4-T1-8.txt completed\n",
      "PDPT-R5-K4-T1-9.txt completed\n",
      "PDPT-R5-K6-T1-0.txt completed\n",
      "PDPT-R5-K6-T1-1.txt completed\n",
      "PDPT-R5-K6-T1-2.txt completed\n",
      "PDPT-R5-K6-T1-3.txt completed\n",
      "PDPT-R5-K6-T1-4.txt completed\n",
      "PDPT-R5-K6-T1-5.txt completed\n",
      "PDPT-R5-K6-T1-6.txt completed\n",
      "PDPT-R5-K6-T1-7.txt completed\n",
      "PDPT-R5-K6-T1-8.txt completed\n",
      "PDPT-R5-K6-T1-9.txt completed\n",
      "PDPT-R5-K8-T1-0.txt completed\n",
      "PDPT-R5-K8-T1-1.txt completed\n",
      "PDPT-R5-K8-T1-2.txt completed\n",
      "PDPT-R5-K8-T1-3.txt completed\n",
      "PDPT-R5-K8-T1-4.txt completed\n",
      "PDPT-R5-K8-T1-5.txt completed\n",
      "PDPT-R5-K8-T1-6.txt completed\n",
      "PDPT-R5-K8-T1-7.txt completed\n",
      "PDPT-R5-K8-T1-8.txt completed\n",
      "PDPT-R5-K8-T1-9.txt completed\n"
     ]
    }
   ],
   "execution_count": 3
  }
 ],
 "metadata": {
  "kernelspec": {
   "display_name": "Python 3",
   "language": "python",
   "name": "python3"
  },
  "language_info": {
   "codemirror_mode": {
    "name": "ipython",
    "version": 2
   },
   "file_extension": ".py",
   "mimetype": "text/x-python",
   "name": "python",
   "nbconvert_exporter": "python",
   "pygments_lexer": "ipython2",
   "version": "2.7.6"
  }
 },
 "nbformat": 4,
 "nbformat_minor": 5
}
