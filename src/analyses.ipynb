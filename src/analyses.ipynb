{
 "cells": [
  {
   "metadata": {
    "ExecuteTime": {
     "end_time": "2024-04-24T15:37:12.523388Z",
     "start_time": "2024-04-24T15:37:09.669660Z"
    }
   },
   "cell_type": "code",
   "source": [
    "import utils\n",
    "import analyses_utils as an\n",
    "\n",
    "import pandas as pd\n",
    "import matplotlib.pyplot as plt"
   ],
   "id": "22929bd266193c80",
   "outputs": [],
   "execution_count": 1
  },
  {
   "metadata": {},
   "cell_type": "markdown",
   "source": "# PDPT",
   "id": "f437022b9df13381"
  },
  {
   "metadata": {},
   "cell_type": "markdown",
   "source": "## Paper",
   "id": "62d2fdc61bbbe255"
  },
  {
   "metadata": {
    "ExecuteTime": {
     "end_time": "2024-04-24T15:37:12.549077Z",
     "start_time": "2024-04-24T15:37:12.523388Z"
    }
   },
   "cell_type": "code",
   "source": "instances = utils.pick_pdpt_instances(5, 4, 'Rais')",
   "id": "1fb7eb8489c4d65c",
   "outputs": [],
   "execution_count": 2
  },
  {
   "metadata": {
    "ExecuteTime": {
     "end_time": "2024-04-24T15:37:12.569327Z",
     "start_time": "2024-04-24T15:37:12.549077Z"
    }
   },
   "cell_type": "code",
   "source": [
    "df = pd.read_csv(utils.PDPT_PAPER_RESULTS_PATH, sep='\\t')\n",
    "df = df[df['Instance'].isin(instances)]\n",
    "df['Params'] = df['Instance'].apply(lambda name: name[5:13])\n",
    "\n",
    "df_rais = df[df['Model'] == 'Rais']\n",
    "df_lyu = df[df['Model'] == 'Lyu']"
   ],
   "id": "a33203d5aa10e219",
   "outputs": [],
   "execution_count": 3
  },
  {
   "metadata": {
    "ExecuteTime": {
     "end_time": "2024-04-24T15:37:12.634973Z",
     "start_time": "2024-04-24T15:37:12.569865Z"
    }
   },
   "cell_type": "code",
   "source": "an.get_results_stats(df_rais)",
   "id": "cabaca185084bb6b",
   "outputs": [
    {
     "data": {
      "text/plain": [
       "          opt  lim  no       gap            t\n",
       "Params                                       \n",
       "R5-K2-T1    4    0   0  0.000000    23.248691\n",
       "R5-K2-T2    4    0   0  0.000000    29.971921\n",
       "R5-K3-T3    4    0   0  0.000000   107.151039\n",
       "R7-K2-T1    3    1   0  0.206544  1705.538958\n",
       "R7-K2-T2    4    0   0  0.000000  1770.155523"
      ],
      "text/html": [
       "<div>\n",
       "<style scoped>\n",
       "    .dataframe tbody tr th:only-of-type {\n",
       "        vertical-align: middle;\n",
       "    }\n",
       "\n",
       "    .dataframe tbody tr th {\n",
       "        vertical-align: top;\n",
       "    }\n",
       "\n",
       "    .dataframe thead th {\n",
       "        text-align: right;\n",
       "    }\n",
       "</style>\n",
       "<table border=\"1\" class=\"dataframe\">\n",
       "  <thead>\n",
       "    <tr style=\"text-align: right;\">\n",
       "      <th></th>\n",
       "      <th>opt</th>\n",
       "      <th>lim</th>\n",
       "      <th>no</th>\n",
       "      <th>gap</th>\n",
       "      <th>t</th>\n",
       "    </tr>\n",
       "    <tr>\n",
       "      <th>Params</th>\n",
       "      <th></th>\n",
       "      <th></th>\n",
       "      <th></th>\n",
       "      <th></th>\n",
       "      <th></th>\n",
       "    </tr>\n",
       "  </thead>\n",
       "  <tbody>\n",
       "    <tr>\n",
       "      <th>R5-K2-T1</th>\n",
       "      <td>4</td>\n",
       "      <td>0</td>\n",
       "      <td>0</td>\n",
       "      <td>0.000000</td>\n",
       "      <td>23.248691</td>\n",
       "    </tr>\n",
       "    <tr>\n",
       "      <th>R5-K2-T2</th>\n",
       "      <td>4</td>\n",
       "      <td>0</td>\n",
       "      <td>0</td>\n",
       "      <td>0.000000</td>\n",
       "      <td>29.971921</td>\n",
       "    </tr>\n",
       "    <tr>\n",
       "      <th>R5-K3-T3</th>\n",
       "      <td>4</td>\n",
       "      <td>0</td>\n",
       "      <td>0</td>\n",
       "      <td>0.000000</td>\n",
       "      <td>107.151039</td>\n",
       "    </tr>\n",
       "    <tr>\n",
       "      <th>R7-K2-T1</th>\n",
       "      <td>3</td>\n",
       "      <td>1</td>\n",
       "      <td>0</td>\n",
       "      <td>0.206544</td>\n",
       "      <td>1705.538958</td>\n",
       "    </tr>\n",
       "    <tr>\n",
       "      <th>R7-K2-T2</th>\n",
       "      <td>4</td>\n",
       "      <td>0</td>\n",
       "      <td>0</td>\n",
       "      <td>0.000000</td>\n",
       "      <td>1770.155523</td>\n",
       "    </tr>\n",
       "  </tbody>\n",
       "</table>\n",
       "</div>"
      ]
     },
     "execution_count": 4,
     "metadata": {},
     "output_type": "execute_result"
    }
   ],
   "execution_count": 4
  },
  {
   "metadata": {
    "ExecuteTime": {
     "end_time": "2024-04-24T15:37:12.677107Z",
     "start_time": "2024-04-24T15:37:12.638445Z"
    }
   },
   "cell_type": "code",
   "source": "an.get_results_stats(df_lyu)",
   "id": "63d243a9a6830ea2",
   "outputs": [
    {
     "data": {
      "text/plain": [
       "          opt  lim  no  gap         t\n",
       "Params                               \n",
       "R5-K2-T1    4    0   0  0.0  0.085759\n",
       "R5-K2-T2    4    0   0  0.0  0.164039\n",
       "R5-K3-T3    4    0   0  0.0  0.223778\n",
       "R7-K2-T1    4    0   0  0.0  6.525908\n",
       "R7-K2-T2    4    0   0  0.0  1.733981"
      ],
      "text/html": [
       "<div>\n",
       "<style scoped>\n",
       "    .dataframe tbody tr th:only-of-type {\n",
       "        vertical-align: middle;\n",
       "    }\n",
       "\n",
       "    .dataframe tbody tr th {\n",
       "        vertical-align: top;\n",
       "    }\n",
       "\n",
       "    .dataframe thead th {\n",
       "        text-align: right;\n",
       "    }\n",
       "</style>\n",
       "<table border=\"1\" class=\"dataframe\">\n",
       "  <thead>\n",
       "    <tr style=\"text-align: right;\">\n",
       "      <th></th>\n",
       "      <th>opt</th>\n",
       "      <th>lim</th>\n",
       "      <th>no</th>\n",
       "      <th>gap</th>\n",
       "      <th>t</th>\n",
       "    </tr>\n",
       "    <tr>\n",
       "      <th>Params</th>\n",
       "      <th></th>\n",
       "      <th></th>\n",
       "      <th></th>\n",
       "      <th></th>\n",
       "      <th></th>\n",
       "    </tr>\n",
       "  </thead>\n",
       "  <tbody>\n",
       "    <tr>\n",
       "      <th>R5-K2-T1</th>\n",
       "      <td>4</td>\n",
       "      <td>0</td>\n",
       "      <td>0</td>\n",
       "      <td>0.0</td>\n",
       "      <td>0.085759</td>\n",
       "    </tr>\n",
       "    <tr>\n",
       "      <th>R5-K2-T2</th>\n",
       "      <td>4</td>\n",
       "      <td>0</td>\n",
       "      <td>0</td>\n",
       "      <td>0.0</td>\n",
       "      <td>0.164039</td>\n",
       "    </tr>\n",
       "    <tr>\n",
       "      <th>R5-K3-T3</th>\n",
       "      <td>4</td>\n",
       "      <td>0</td>\n",
       "      <td>0</td>\n",
       "      <td>0.0</td>\n",
       "      <td>0.223778</td>\n",
       "    </tr>\n",
       "    <tr>\n",
       "      <th>R7-K2-T1</th>\n",
       "      <td>4</td>\n",
       "      <td>0</td>\n",
       "      <td>0</td>\n",
       "      <td>0.0</td>\n",
       "      <td>6.525908</td>\n",
       "    </tr>\n",
       "    <tr>\n",
       "      <th>R7-K2-T2</th>\n",
       "      <td>4</td>\n",
       "      <td>0</td>\n",
       "      <td>0</td>\n",
       "      <td>0.0</td>\n",
       "      <td>1.733981</td>\n",
       "    </tr>\n",
       "  </tbody>\n",
       "</table>\n",
       "</div>"
      ]
     },
     "execution_count": 5,
     "metadata": {},
     "output_type": "execute_result"
    }
   ],
   "execution_count": 5
  },
  {
   "metadata": {},
   "cell_type": "markdown",
   "source": "## Project",
   "id": "339f3b7efa10d9c7"
  },
  {
   "metadata": {
    "ExecuteTime": {
     "end_time": "2024-04-24T15:37:12.694382Z",
     "start_time": "2024-04-24T15:37:12.678997Z"
    }
   },
   "cell_type": "code",
   "source": [
    "df = pd.read_csv('../results/PDPT.csv')\n",
    "df['Params'] = df['Instance'].apply(lambda name: name[5:13])\n",
    "\n",
    "df_rais = df[df['Model'] == 'Rais']\n",
    "df_lyu = df[df['Model'] == 'Lyu']"
   ],
   "id": "955bd3d764a49f18",
   "outputs": [],
   "execution_count": 6
  },
  {
   "metadata": {
    "ExecuteTime": {
     "end_time": "2024-04-24T15:37:12.735309Z",
     "start_time": "2024-04-24T15:37:12.694382Z"
    }
   },
   "cell_type": "code",
   "source": "an.get_results_stats(df_rais)",
   "id": "8fdec8213d760849",
   "outputs": [
    {
     "data": {
      "text/plain": [
       "          opt  lim  no       gap           t\n",
       "Params                                      \n",
       "R5-K2-T1    4    0   0  0.000000    31.42925\n",
       "R5-K2-T2    4    0   0  0.000000    40.26250\n",
       "R5-K3-T3    4    0   0  0.000000   221.65050\n",
       "R7-K2-T1    2    2   0  0.140698  2029.01825\n",
       "R7-K2-T2    4    0   0  0.000000  2162.41000"
      ],
      "text/html": [
       "<div>\n",
       "<style scoped>\n",
       "    .dataframe tbody tr th:only-of-type {\n",
       "        vertical-align: middle;\n",
       "    }\n",
       "\n",
       "    .dataframe tbody tr th {\n",
       "        vertical-align: top;\n",
       "    }\n",
       "\n",
       "    .dataframe thead th {\n",
       "        text-align: right;\n",
       "    }\n",
       "</style>\n",
       "<table border=\"1\" class=\"dataframe\">\n",
       "  <thead>\n",
       "    <tr style=\"text-align: right;\">\n",
       "      <th></th>\n",
       "      <th>opt</th>\n",
       "      <th>lim</th>\n",
       "      <th>no</th>\n",
       "      <th>gap</th>\n",
       "      <th>t</th>\n",
       "    </tr>\n",
       "    <tr>\n",
       "      <th>Params</th>\n",
       "      <th></th>\n",
       "      <th></th>\n",
       "      <th></th>\n",
       "      <th></th>\n",
       "      <th></th>\n",
       "    </tr>\n",
       "  </thead>\n",
       "  <tbody>\n",
       "    <tr>\n",
       "      <th>R5-K2-T1</th>\n",
       "      <td>4</td>\n",
       "      <td>0</td>\n",
       "      <td>0</td>\n",
       "      <td>0.000000</td>\n",
       "      <td>31.42925</td>\n",
       "    </tr>\n",
       "    <tr>\n",
       "      <th>R5-K2-T2</th>\n",
       "      <td>4</td>\n",
       "      <td>0</td>\n",
       "      <td>0</td>\n",
       "      <td>0.000000</td>\n",
       "      <td>40.26250</td>\n",
       "    </tr>\n",
       "    <tr>\n",
       "      <th>R5-K3-T3</th>\n",
       "      <td>4</td>\n",
       "      <td>0</td>\n",
       "      <td>0</td>\n",
       "      <td>0.000000</td>\n",
       "      <td>221.65050</td>\n",
       "    </tr>\n",
       "    <tr>\n",
       "      <th>R7-K2-T1</th>\n",
       "      <td>2</td>\n",
       "      <td>2</td>\n",
       "      <td>0</td>\n",
       "      <td>0.140698</td>\n",
       "      <td>2029.01825</td>\n",
       "    </tr>\n",
       "    <tr>\n",
       "      <th>R7-K2-T2</th>\n",
       "      <td>4</td>\n",
       "      <td>0</td>\n",
       "      <td>0</td>\n",
       "      <td>0.000000</td>\n",
       "      <td>2162.41000</td>\n",
       "    </tr>\n",
       "  </tbody>\n",
       "</table>\n",
       "</div>"
      ]
     },
     "execution_count": 7,
     "metadata": {},
     "output_type": "execute_result"
    }
   ],
   "execution_count": 7
  },
  {
   "metadata": {
    "ExecuteTime": {
     "end_time": "2024-04-24T15:37:12.771762Z",
     "start_time": "2024-04-24T15:37:12.737922Z"
    }
   },
   "cell_type": "code",
   "source": "an.get_results_stats(df_lyu)",
   "id": "703840e9488fcd54",
   "outputs": [
    {
     "data": {
      "text/plain": [
       "          opt  lim  no  gap        t\n",
       "Params                              \n",
       "R5-K2-T1    4    0   0  0.0  0.15175\n",
       "R5-K2-T2    4    0   0  0.0  0.31450\n",
       "R5-K3-T3    4    0   0  0.0  0.40925\n",
       "R7-K2-T1    4    0   0  0.0  7.90625\n",
       "R7-K2-T2    4    0   0  0.0  1.37425"
      ],
      "text/html": [
       "<div>\n",
       "<style scoped>\n",
       "    .dataframe tbody tr th:only-of-type {\n",
       "        vertical-align: middle;\n",
       "    }\n",
       "\n",
       "    .dataframe tbody tr th {\n",
       "        vertical-align: top;\n",
       "    }\n",
       "\n",
       "    .dataframe thead th {\n",
       "        text-align: right;\n",
       "    }\n",
       "</style>\n",
       "<table border=\"1\" class=\"dataframe\">\n",
       "  <thead>\n",
       "    <tr style=\"text-align: right;\">\n",
       "      <th></th>\n",
       "      <th>opt</th>\n",
       "      <th>lim</th>\n",
       "      <th>no</th>\n",
       "      <th>gap</th>\n",
       "      <th>t</th>\n",
       "    </tr>\n",
       "    <tr>\n",
       "      <th>Params</th>\n",
       "      <th></th>\n",
       "      <th></th>\n",
       "      <th></th>\n",
       "      <th></th>\n",
       "      <th></th>\n",
       "    </tr>\n",
       "  </thead>\n",
       "  <tbody>\n",
       "    <tr>\n",
       "      <th>R5-K2-T1</th>\n",
       "      <td>4</td>\n",
       "      <td>0</td>\n",
       "      <td>0</td>\n",
       "      <td>0.0</td>\n",
       "      <td>0.15175</td>\n",
       "    </tr>\n",
       "    <tr>\n",
       "      <th>R5-K2-T2</th>\n",
       "      <td>4</td>\n",
       "      <td>0</td>\n",
       "      <td>0</td>\n",
       "      <td>0.0</td>\n",
       "      <td>0.31450</td>\n",
       "    </tr>\n",
       "    <tr>\n",
       "      <th>R5-K3-T3</th>\n",
       "      <td>4</td>\n",
       "      <td>0</td>\n",
       "      <td>0</td>\n",
       "      <td>0.0</td>\n",
       "      <td>0.40925</td>\n",
       "    </tr>\n",
       "    <tr>\n",
       "      <th>R7-K2-T1</th>\n",
       "      <td>4</td>\n",
       "      <td>0</td>\n",
       "      <td>0</td>\n",
       "      <td>0.0</td>\n",
       "      <td>7.90625</td>\n",
       "    </tr>\n",
       "    <tr>\n",
       "      <th>R7-K2-T2</th>\n",
       "      <td>4</td>\n",
       "      <td>0</td>\n",
       "      <td>0</td>\n",
       "      <td>0.0</td>\n",
       "      <td>1.37425</td>\n",
       "    </tr>\n",
       "  </tbody>\n",
       "</table>\n",
       "</div>"
      ]
     },
     "execution_count": 8,
     "metadata": {},
     "output_type": "execute_result"
    }
   ],
   "execution_count": 8
  },
  {
   "metadata": {
    "ExecuteTime": {
     "end_time": "2024-04-24T15:37:13.962862Z",
     "start_time": "2024-04-24T15:37:12.775493Z"
    }
   },
   "cell_type": "code",
   "source": [
    "fig, ax = plt.subplots()\n",
    "\n",
    "ax.plot(an.get_results_stats(df_rais)['t'], label='Rais')\n",
    "ax.plot(an.get_results_stats(df_lyu)['t'], label='Lyu')\n",
    "\n",
    "ax.set(title='PDP-T: Project results', \n",
    "       xlabel='Parameters', \n",
    "       ylabel='Time (s)', yscale='log')\n",
    "ax.legend()\n",
    "\n",
    "fig.savefig('../figures/PDPT.png')\n",
    "plt.show()"
   ],
   "id": "c968e404b4b16a99",
   "outputs": [
    {
     "data": {
      "text/plain": [
       "<Figure size 640x480 with 1 Axes>"
      ],
      "image/png": "[encoded data removed]"
     },
     "metadata": {},
     "output_type": "display_data"
    }
   ],
   "execution_count": 9
  },
  {
   "metadata": {},
   "cell_type": "markdown",
   "source": "# PDPTWT",
   "id": "7edd5a0b174f5108"
  },
  {
   "metadata": {},
   "cell_type": "markdown",
   "source": "## Paper",
   "id": "b0107949e17b1879"
  },
  {
   "metadata": {
    "ExecuteTime": {
     "end_time": "2024-04-24T15:37:14.014132Z",
     "start_time": "2024-04-24T15:37:13.964713Z"
    }
   },
   "cell_type": "code",
   "source": "instances = utils.pick_pdptwt_instances(2, 'Sampaio', skip=['180', '300', '5T'])",
   "id": "4eb6ef6973ec4d4",
   "outputs": [],
   "execution_count": 10
  },
  {
   "metadata": {
    "ExecuteTime": {
     "end_time": "2024-04-24T15:37:14.031053Z",
     "start_time": "2024-04-24T15:37:14.015161Z"
    }
   },
   "cell_type": "code",
   "source": [
    "df = pd.read_csv(utils.PDPTWT_PAPER_RESULTS_PATH, sep='\\t')\n",
    "df = df[df['Instance'].isin(instances)]\n",
    "df['Params'] = df['Instance'].apply(lambda name: name[:13])\n",
    "\n",
    "df_sampaio = df[df['Model'] == 'Sampaio']\n",
    "df_lyu = df[df['Model'] == 'Lyu']"
   ],
   "id": "efdd2ab1900540ad",
   "outputs": [],
   "execution_count": 11
  },
  {
   "metadata": {
    "ExecuteTime": {
     "end_time": "2024-04-24T15:37:14.069373Z",
     "start_time": "2024-04-24T15:37:14.032092Z"
    }
   },
   "cell_type": "code",
   "source": "an.get_results_stats(df_sampaio)",
   "id": "60511261a2fcef12",
   "outputs": [
    {
     "data": {
      "text/plain": [
       "               opt  lim  no       gap            t\n",
       "Params                                            \n",
       "3R-4K-4T-240L    2    0   0  0.000000     9.231899\n",
       "3R-4K-4T-240M    2    0   0  0.000000     5.100620\n",
       "3R-4K-4T-240S    2    0   0  0.000000     0.851732\n",
       "4R-4K-4T-240L    2    0   0  0.000000   337.337275\n",
       "4R-4K-4T-240M    2    0   0  0.000000    42.024628\n",
       "4R-4K-4T-240S    2    0   0  0.000000    27.591332\n",
       "5R-4K-4T-240L    0    2   0  0.149908  3600.026198\n",
       "5R-4K-4T-240M    2    0   0  0.000000  1072.190763\n",
       "5R-4K-4T-240S    2    0   0  0.000000   302.267466"
      ],
      "text/html": [
       "<div>\n",
       "<style scoped>\n",
       "    .dataframe tbody tr th:only-of-type {\n",
       "        vertical-align: middle;\n",
       "    }\n",
       "\n",
       "    .dataframe tbody tr th {\n",
       "        vertical-align: top;\n",
       "    }\n",
       "\n",
       "    .dataframe thead th {\n",
       "        text-align: right;\n",
       "    }\n",
       "</style>\n",
       "<table border=\"1\" class=\"dataframe\">\n",
       "  <thead>\n",
       "    <tr style=\"text-align: right;\">\n",
       "      <th></th>\n",
       "      <th>opt</th>\n",
       "      <th>lim</th>\n",
       "      <th>no</th>\n",
       "      <th>gap</th>\n",
       "      <th>t</th>\n",
       "    </tr>\n",
       "    <tr>\n",
       "      <th>Params</th>\n",
       "      <th></th>\n",
       "      <th></th>\n",
       "      <th></th>\n",
       "      <th></th>\n",
       "      <th></th>\n",
       "    </tr>\n",
       "  </thead>\n",
       "  <tbody>\n",
       "    <tr>\n",
       "      <th>3R-4K-4T-240L</th>\n",
       "      <td>2</td>\n",
       "      <td>0</td>\n",
       "      <td>0</td>\n",
       "      <td>0.000000</td>\n",
       "      <td>9.231899</td>\n",
       "    </tr>\n",
       "    <tr>\n",
       "      <th>3R-4K-4T-240M</th>\n",
       "      <td>2</td>\n",
       "      <td>0</td>\n",
       "      <td>0</td>\n",
       "      <td>0.000000</td>\n",
       "      <td>5.100620</td>\n",
       "    </tr>\n",
       "    <tr>\n",
       "      <th>3R-4K-4T-240S</th>\n",
       "      <td>2</td>\n",
       "      <td>0</td>\n",
       "      <td>0</td>\n",
       "      <td>0.000000</td>\n",
       "      <td>0.851732</td>\n",
       "    </tr>\n",
       "    <tr>\n",
       "      <th>4R-4K-4T-240L</th>\n",
       "      <td>2</td>\n",
       "      <td>0</td>\n",
       "      <td>0</td>\n",
       "      <td>0.000000</td>\n",
       "      <td>337.337275</td>\n",
       "    </tr>\n",
       "    <tr>\n",
       "      <th>4R-4K-4T-240M</th>\n",
       "      <td>2</td>\n",
       "      <td>0</td>\n",
       "      <td>0</td>\n",
       "      <td>0.000000</td>\n",
       "      <td>42.024628</td>\n",
       "    </tr>\n",
       "    <tr>\n",
       "      <th>4R-4K-4T-240S</th>\n",
       "      <td>2</td>\n",
       "      <td>0</td>\n",
       "      <td>0</td>\n",
       "      <td>0.000000</td>\n",
       "      <td>27.591332</td>\n",
       "    </tr>\n",
       "    <tr>\n",
       "      <th>5R-4K-4T-240L</th>\n",
       "      <td>0</td>\n",
       "      <td>2</td>\n",
       "      <td>0</td>\n",
       "      <td>0.149908</td>\n",
       "      <td>3600.026198</td>\n",
       "    </tr>\n",
       "    <tr>\n",
       "      <th>5R-4K-4T-240M</th>\n",
       "      <td>2</td>\n",
       "      <td>0</td>\n",
       "      <td>0</td>\n",
       "      <td>0.000000</td>\n",
       "      <td>1072.190763</td>\n",
       "    </tr>\n",
       "    <tr>\n",
       "      <th>5R-4K-4T-240S</th>\n",
       "      <td>2</td>\n",
       "      <td>0</td>\n",
       "      <td>0</td>\n",
       "      <td>0.000000</td>\n",
       "      <td>302.267466</td>\n",
       "    </tr>\n",
       "  </tbody>\n",
       "</table>\n",
       "</div>"
      ]
     },
     "execution_count": 12,
     "metadata": {},
     "output_type": "execute_result"
    }
   ],
   "execution_count": 12
  },
  {
   "metadata": {
    "ExecuteTime": {
     "end_time": "2024-04-24T15:37:14.106552Z",
     "start_time": "2024-04-24T15:37:14.072702Z"
    }
   },
   "cell_type": "code",
   "source": "an.get_results_stats(df_lyu)",
   "id": "3ccf99ac7bd9d865",
   "outputs": [
    {
     "data": {
      "text/plain": [
       "               opt  lim  no  gap            t\n",
       "Params                                       \n",
       "3R-4K-4T-240L    2    0   0  0.0     5.524339\n",
       "3R-4K-4T-240M    2    0   0  0.0     3.416602\n",
       "3R-4K-4T-240S    2    0   0  0.0     2.195621\n",
       "4R-4K-4T-240L    2    0   0  0.0    77.838708\n",
       "4R-4K-4T-240M    2    0   0  0.0    26.966207\n",
       "4R-4K-4T-240S    2    0   0  0.0    26.841693\n",
       "5R-4K-4T-240L    2    0   0  0.0  1323.157136\n",
       "5R-4K-4T-240M    2    0   0  0.0   770.505918\n",
       "5R-4K-4T-240S    2    0   0  0.0    60.655713"
      ],
      "text/html": [
       "<div>\n",
       "<style scoped>\n",
       "    .dataframe tbody tr th:only-of-type {\n",
       "        vertical-align: middle;\n",
       "    }\n",
       "\n",
       "    .dataframe tbody tr th {\n",
       "        vertical-align: top;\n",
       "    }\n",
       "\n",
       "    .dataframe thead th {\n",
       "        text-align: right;\n",
       "    }\n",
       "</style>\n",
       "<table border=\"1\" class=\"dataframe\">\n",
       "  <thead>\n",
       "    <tr style=\"text-align: right;\">\n",
       "      <th></th>\n",
       "      <th>opt</th>\n",
       "      <th>lim</th>\n",
       "      <th>no</th>\n",
       "      <th>gap</th>\n",
       "      <th>t</th>\n",
       "    </tr>\n",
       "    <tr>\n",
       "      <th>Params</th>\n",
       "      <th></th>\n",
       "      <th></th>\n",
       "      <th></th>\n",
       "      <th></th>\n",
       "      <th></th>\n",
       "    </tr>\n",
       "  </thead>\n",
       "  <tbody>\n",
       "    <tr>\n",
       "      <th>3R-4K-4T-240L</th>\n",
       "      <td>2</td>\n",
       "      <td>0</td>\n",
       "      <td>0</td>\n",
       "      <td>0.0</td>\n",
       "      <td>5.524339</td>\n",
       "    </tr>\n",
       "    <tr>\n",
       "      <th>3R-4K-4T-240M</th>\n",
       "      <td>2</td>\n",
       "      <td>0</td>\n",
       "      <td>0</td>\n",
       "      <td>0.0</td>\n",
       "      <td>3.416602</td>\n",
       "    </tr>\n",
       "    <tr>\n",
       "      <th>3R-4K-4T-240S</th>\n",
       "      <td>2</td>\n",
       "      <td>0</td>\n",
       "      <td>0</td>\n",
       "      <td>0.0</td>\n",
       "      <td>2.195621</td>\n",
       "    </tr>\n",
       "    <tr>\n",
       "      <th>4R-4K-4T-240L</th>\n",
       "      <td>2</td>\n",
       "      <td>0</td>\n",
       "      <td>0</td>\n",
       "      <td>0.0</td>\n",
       "      <td>77.838708</td>\n",
       "    </tr>\n",
       "    <tr>\n",
       "      <th>4R-4K-4T-240M</th>\n",
       "      <td>2</td>\n",
       "      <td>0</td>\n",
       "      <td>0</td>\n",
       "      <td>0.0</td>\n",
       "      <td>26.966207</td>\n",
       "    </tr>\n",
       "    <tr>\n",
       "      <th>4R-4K-4T-240S</th>\n",
       "      <td>2</td>\n",
       "      <td>0</td>\n",
       "      <td>0</td>\n",
       "      <td>0.0</td>\n",
       "      <td>26.841693</td>\n",
       "    </tr>\n",
       "    <tr>\n",
       "      <th>5R-4K-4T-240L</th>\n",
       "      <td>2</td>\n",
       "      <td>0</td>\n",
       "      <td>0</td>\n",
       "      <td>0.0</td>\n",
       "      <td>1323.157136</td>\n",
       "    </tr>\n",
       "    <tr>\n",
       "      <th>5R-4K-4T-240M</th>\n",
       "      <td>2</td>\n",
       "      <td>0</td>\n",
       "      <td>0</td>\n",
       "      <td>0.0</td>\n",
       "      <td>770.505918</td>\n",
       "    </tr>\n",
       "    <tr>\n",
       "      <th>5R-4K-4T-240S</th>\n",
       "      <td>2</td>\n",
       "      <td>0</td>\n",
       "      <td>0</td>\n",
       "      <td>0.0</td>\n",
       "      <td>60.655713</td>\n",
       "    </tr>\n",
       "  </tbody>\n",
       "</table>\n",
       "</div>"
      ]
     },
     "execution_count": 13,
     "metadata": {},
     "output_type": "execute_result"
    }
   ],
   "execution_count": 13
  },
  {
   "metadata": {},
   "cell_type": "markdown",
   "source": "## Project",
   "id": "c79c44b47395089b"
  },
  {
   "metadata": {
    "ExecuteTime": {
     "end_time": "2024-04-24T15:37:14.132196Z",
     "start_time": "2024-04-24T15:37:14.109864Z"
    }
   },
   "cell_type": "code",
   "source": [
    "df = pd.read_csv('../results/PDPTWT.csv')\n",
    "df['Params'] = df['Instance'].apply(lambda name: name[:13])\n",
    "\n",
    "df_sampaio = df[df['Model'] == 'Sampaio']\n",
    "df_lyu = df[df['Model'] == 'Lyu']"
   ],
   "id": "6c6245f28455fda5",
   "outputs": [],
   "execution_count": 14
  },
  {
   "metadata": {
    "ExecuteTime": {
     "end_time": "2024-04-24T15:37:14.172342Z",
     "start_time": "2024-04-24T15:37:14.132196Z"
    }
   },
   "cell_type": "code",
   "source": "an.get_results_stats(df_sampaio)",
   "id": "eeb2d5ed3c5a783c",
   "outputs": [
    {
     "data": {
      "text/plain": [
       "               opt  lim  no       gap          t\n",
       "Params                                          \n",
       "3R-4K-4T-240L    2    0   0  0.000000   252.4245\n",
       "3R-4K-4T-240M    2    0   0  0.000000    94.7045\n",
       "3R-4K-4T-240S    2    0   0  0.000000     7.4900\n",
       "4R-4K-4T-240L    0    2   0  0.123391  3600.0565\n",
       "4R-4K-4T-240M    2    0   0  0.000000   738.9845\n",
       "4R-4K-4T-240S    2    0   0  0.000000   423.9510\n",
       "5R-4K-4T-240L    0    1   1  0.258775  3600.0865\n",
       "5R-4K-4T-240M    0    2   0  0.240746  3600.0900\n",
       "5R-4K-4T-240S    2    0   0  0.000000   477.5090"
      ],
      "text/html": [
       "<div>\n",
       "<style scoped>\n",
       "    .dataframe tbody tr th:only-of-type {\n",
       "        vertical-align: middle;\n",
       "    }\n",
       "\n",
       "    .dataframe tbody tr th {\n",
       "        vertical-align: top;\n",
       "    }\n",
       "\n",
       "    .dataframe thead th {\n",
       "        text-align: right;\n",
       "    }\n",
       "</style>\n",
       "<table border=\"1\" class=\"dataframe\">\n",
       "  <thead>\n",
       "    <tr style=\"text-align: right;\">\n",
       "      <th></th>\n",
       "      <th>opt</th>\n",
       "      <th>lim</th>\n",
       "      <th>no</th>\n",
       "      <th>gap</th>\n",
       "      <th>t</th>\n",
       "    </tr>\n",
       "    <tr>\n",
       "      <th>Params</th>\n",
       "      <th></th>\n",
       "      <th></th>\n",
       "      <th></th>\n",
       "      <th></th>\n",
       "      <th></th>\n",
       "    </tr>\n",
       "  </thead>\n",
       "  <tbody>\n",
       "    <tr>\n",
       "      <th>3R-4K-4T-240L</th>\n",
       "      <td>2</td>\n",
       "      <td>0</td>\n",
       "      <td>0</td>\n",
       "      <td>0.000000</td>\n",
       "      <td>252.4245</td>\n",
       "    </tr>\n",
       "    <tr>\n",
       "      <th>3R-4K-4T-240M</th>\n",
       "      <td>2</td>\n",
       "      <td>0</td>\n",
       "      <td>0</td>\n",
       "      <td>0.000000</td>\n",
       "      <td>94.7045</td>\n",
       "    </tr>\n",
       "    <tr>\n",
       "      <th>3R-4K-4T-240S</th>\n",
       "      <td>2</td>\n",
       "      <td>0</td>\n",
       "      <td>0</td>\n",
       "      <td>0.000000</td>\n",
       "      <td>7.4900</td>\n",
       "    </tr>\n",
       "    <tr>\n",
       "      <th>4R-4K-4T-240L</th>\n",
       "      <td>0</td>\n",
       "      <td>2</td>\n",
       "      <td>0</td>\n",
       "      <td>0.123391</td>\n",
       "      <td>3600.0565</td>\n",
       "    </tr>\n",
       "    <tr>\n",
       "      <th>4R-4K-4T-240M</th>\n",
       "      <td>2</td>\n",
       "      <td>0</td>\n",
       "      <td>0</td>\n",
       "      <td>0.000000</td>\n",
       "      <td>738.9845</td>\n",
       "    </tr>\n",
       "    <tr>\n",
       "      <th>4R-4K-4T-240S</th>\n",
       "      <td>2</td>\n",
       "      <td>0</td>\n",
       "      <td>0</td>\n",
       "      <td>0.000000</td>\n",
       "      <td>423.9510</td>\n",
       "    </tr>\n",
       "    <tr>\n",
       "      <th>5R-4K-4T-240L</th>\n",
       "      <td>0</td>\n",
       "      <td>1</td>\n",
       "      <td>1</td>\n",
       "      <td>0.258775</td>\n",
       "      <td>3600.0865</td>\n",
       "    </tr>\n",
       "    <tr>\n",
       "      <th>5R-4K-4T-240M</th>\n",
       "      <td>0</td>\n",
       "      <td>2</td>\n",
       "      <td>0</td>\n",
       "      <td>0.240746</td>\n",
       "      <td>3600.0900</td>\n",
       "    </tr>\n",
       "    <tr>\n",
       "      <th>5R-4K-4T-240S</th>\n",
       "      <td>2</td>\n",
       "      <td>0</td>\n",
       "      <td>0</td>\n",
       "      <td>0.000000</td>\n",
       "      <td>477.5090</td>\n",
       "    </tr>\n",
       "  </tbody>\n",
       "</table>\n",
       "</div>"
      ]
     },
     "execution_count": 15,
     "metadata": {},
     "output_type": "execute_result"
    }
   ],
   "execution_count": 15
  },
  {
   "metadata": {
    "ExecuteTime": {
     "end_time": "2024-04-24T15:37:14.209565Z",
     "start_time": "2024-04-24T15:37:14.172342Z"
    }
   },
   "cell_type": "code",
   "source": "an.get_results_stats(df_lyu)",
   "id": "87300827b326661d",
   "outputs": [
    {
     "data": {
      "text/plain": [
       "               opt  lim  no       gap          t\n",
       "Params                                          \n",
       "3R-4K-4T-240L    2    0   0  0.000000    10.1000\n",
       "3R-4K-4T-240M    2    0   0  0.000000     6.8170\n",
       "3R-4K-4T-240S    2    0   0  0.000000     1.5140\n",
       "4R-4K-4T-240L    2    0   0  0.000000    75.7895\n",
       "4R-4K-4T-240M    2    0   0  0.000000    29.3220\n",
       "4R-4K-4T-240S    2    0   0  0.000000    44.2840\n",
       "5R-4K-4T-240L    1    1   0  0.077288  3142.6295\n",
       "5R-4K-4T-240M    2    0   0  0.000000   650.7625\n",
       "5R-4K-4T-240S    2    0   0  0.000000    63.8250"
      ],
      "text/html": [
       "<div>\n",
       "<style scoped>\n",
       "    .dataframe tbody tr th:only-of-type {\n",
       "        vertical-align: middle;\n",
       "    }\n",
       "\n",
       "    .dataframe tbody tr th {\n",
       "        vertical-align: top;\n",
       "    }\n",
       "\n",
       "    .dataframe thead th {\n",
       "        text-align: right;\n",
       "    }\n",
       "</style>\n",
       "<table border=\"1\" class=\"dataframe\">\n",
       "  <thead>\n",
       "    <tr style=\"text-align: right;\">\n",
       "      <th></th>\n",
       "      <th>opt</th>\n",
       "      <th>lim</th>\n",
       "      <th>no</th>\n",
       "      <th>gap</th>\n",
       "      <th>t</th>\n",
       "    </tr>\n",
       "    <tr>\n",
       "      <th>Params</th>\n",
       "      <th></th>\n",
       "      <th></th>\n",
       "      <th></th>\n",
       "      <th></th>\n",
       "      <th></th>\n",
       "    </tr>\n",
       "  </thead>\n",
       "  <tbody>\n",
       "    <tr>\n",
       "      <th>3R-4K-4T-240L</th>\n",
       "      <td>2</td>\n",
       "      <td>0</td>\n",
       "      <td>0</td>\n",
       "      <td>0.000000</td>\n",
       "      <td>10.1000</td>\n",
       "    </tr>\n",
       "    <tr>\n",
       "      <th>3R-4K-4T-240M</th>\n",
       "      <td>2</td>\n",
       "      <td>0</td>\n",
       "      <td>0</td>\n",
       "      <td>0.000000</td>\n",
       "      <td>6.8170</td>\n",
       "    </tr>\n",
       "    <tr>\n",
       "      <th>3R-4K-4T-240S</th>\n",
       "      <td>2</td>\n",
       "      <td>0</td>\n",
       "      <td>0</td>\n",
       "      <td>0.000000</td>\n",
       "      <td>1.5140</td>\n",
       "    </tr>\n",
       "    <tr>\n",
       "      <th>4R-4K-4T-240L</th>\n",
       "      <td>2</td>\n",
       "      <td>0</td>\n",
       "      <td>0</td>\n",
       "      <td>0.000000</td>\n",
       "      <td>75.7895</td>\n",
       "    </tr>\n",
       "    <tr>\n",
       "      <th>4R-4K-4T-240M</th>\n",
       "      <td>2</td>\n",
       "      <td>0</td>\n",
       "      <td>0</td>\n",
       "      <td>0.000000</td>\n",
       "      <td>29.3220</td>\n",
       "    </tr>\n",
       "    <tr>\n",
       "      <th>4R-4K-4T-240S</th>\n",
       "      <td>2</td>\n",
       "      <td>0</td>\n",
       "      <td>0</td>\n",
       "      <td>0.000000</td>\n",
       "      <td>44.2840</td>\n",
       "    </tr>\n",
       "    <tr>\n",
       "      <th>5R-4K-4T-240L</th>\n",
       "      <td>1</td>\n",
       "      <td>1</td>\n",
       "      <td>0</td>\n",
       "      <td>0.077288</td>\n",
       "      <td>3142.6295</td>\n",
       "    </tr>\n",
       "    <tr>\n",
       "      <th>5R-4K-4T-240M</th>\n",
       "      <td>2</td>\n",
       "      <td>0</td>\n",
       "      <td>0</td>\n",
       "      <td>0.000000</td>\n",
       "      <td>650.7625</td>\n",
       "    </tr>\n",
       "    <tr>\n",
       "      <th>5R-4K-4T-240S</th>\n",
       "      <td>2</td>\n",
       "      <td>0</td>\n",
       "      <td>0</td>\n",
       "      <td>0.000000</td>\n",
       "      <td>63.8250</td>\n",
       "    </tr>\n",
       "  </tbody>\n",
       "</table>\n",
       "</div>"
      ]
     },
     "execution_count": 16,
     "metadata": {},
     "output_type": "execute_result"
    }
   ],
   "execution_count": 16
  },
  {
   "metadata": {
    "ExecuteTime": {
     "end_time": "2024-04-24T15:37:14.861111Z",
     "start_time": "2024-04-24T15:37:14.209565Z"
    }
   },
   "cell_type": "code",
   "source": [
    "fig, axes = plt.subplots(nrows=1, ncols=3, sharey=True)\n",
    "\n",
    "time_sampaio = an.get_results_stats(df_sampaio)['t']\n",
    "time_lyu = an.get_results_stats(df_lyu)['t']\n",
    "\n",
    "params_enum = {\n",
    "       0: '240S',\n",
    "       1: '240M',\n",
    "       2: '240L'\n",
    "}\n",
    "\n",
    "for i, ax in enumerate(axes):\n",
    "       p = params_enum[i]\n",
    "       ax.set_title(p)\n",
    "\n",
    "       data = time_sampaio[time_sampaio.index.str.contains(p)]\n",
    "       ax.plot([x[0] for x in data.index], data, label='Sampaio')\n",
    "\n",
    "       data = time_lyu[time_lyu.index.str.contains(p)]\n",
    "       ax.plot([x[0] for x in data.index], data, label='Lyu')\n",
    "\n",
    "       if i == 0:\n",
    "              ax.set_ylabel('Time (s)')\n",
    "              ax.legend(loc='upper left')\n",
    "\n",
    "       if i == 1:\n",
    "              ax.set_xlabel('Numer of requests')\n",
    "\n",
    "plt.suptitle('PDPTW-T: Project results')\n",
    "\n",
    "fig.savefig('../figures/PDPTWT.png')\n",
    "plt.show()"
   ],
   "id": "604f839ae000882f",
   "outputs": [
    {
     "data": {
      "text/plain": [
       "<Figure size 640x480 with 3 Axes>"
      ],
      "image/png": "[encoded data removed]"
     },
     "metadata": {},
     "output_type": "display_data"
    }
   ],
   "execution_count": 17
  },
  {
   "metadata": {},
   "cell_type": "markdown",
   "source": "# PDPT Lyu Scalability on #requests",
   "id": "aefc2a27836caeee"
  },
  {
   "metadata": {
    "ExecuteTime": {
     "end_time": "2024-04-24T15:37:14.877766Z",
     "start_time": "2024-04-24T15:37:14.863627Z"
    }
   },
   "cell_type": "code",
   "source": [
    "df = pd.read_csv('../results/PDPT-LYU-SCALABILITY-R.csv')\n",
    "df['Params'] = df['Instance'].apply(lambda name: name.split('-')[1][1:])\n",
    "df.sort_values(by='Time').reset_index(drop=True, inplace=True)"
   ],
   "id": "88e8b73aa22b5163",
   "outputs": [],
   "execution_count": 18
  },
  {
   "metadata": {
    "ExecuteTime": {
     "end_time": "2024-04-24T15:37:15.130184Z",
     "start_time": "2024-04-24T15:37:14.877766Z"
    }
   },
   "cell_type": "code",
   "source": [
    "fig, ax = plt.subplots()\n",
    "data = df.groupby('Params')['Time'].mean().sort_values()\n",
    "ax.plot(data)\n",
    "ax.set(title='PDP-T: Scalability on #requests',\n",
    "       xlabel='Number of requests',\n",
    "       ylabel='Time (s)')\n",
    "\n",
    "fig.savefig('../figures/PDPT-LYU-SCALABILITY-R.png')\n",
    "plt.show()"
   ],
   "id": "8462d10886d1d3a6",
   "outputs": [
    {
     "data": {
      "text/plain": [
       "<Figure size 640x480 with 1 Axes>"
      ],
      "image/png": "[encoded data removed]"
     },
     "metadata": {},
     "output_type": "display_data"
    }
   ],
   "execution_count": 19
  },
  {
   "metadata": {},
   "cell_type": "markdown",
   "source": "# PDPT Lyu Scalability on #vehicles",
   "id": "29fc7657c7c1e760"
  },
  {
   "metadata": {
    "ExecuteTime": {
     "end_time": "2024-04-24T15:37:15.148688Z",
     "start_time": "2024-04-24T15:37:15.132781Z"
    }
   },
   "cell_type": "code",
   "source": [
    "df = pd.read_csv('../results/PDPT-VEHICLES.csv')\n",
    "df['Params'] = df['Instance'].apply(lambda name: int(name.split('-')[2][1:]))\n",
    "df = df.sort_values('Params').reset_index(drop=True)\n",
    "\n",
    "df_lyu = df[df['Model'] == 'Lyu']\n",
    "df_rais = df[df['Model'] == 'Rais']"
   ],
   "id": "ea50cbcceb1a8909",
   "outputs": [],
   "execution_count": 20
  },
  {
   "metadata": {
    "ExecuteTime": {
     "end_time": "2024-04-24T15:37:15.668683Z",
     "start_time": "2024-04-24T15:37:15.151665Z"
    }
   },
   "cell_type": "code",
   "source": [
    "fig, ax = plt.subplots()\n",
    "\n",
    "ax.set(yscale='log', \n",
    "       ylabel='Time (s)', \n",
    "       xlabel='Number of vehicles',\n",
    "       xticks=range(2, 21, 2))\n",
    "ax.plot(df_lyu.groupby('Params')['Time'].mean())\n",
    "ax.plot(df_rais.groupby('Params')['Time'].mean())\n",
    "\n",
    "fig.savefig('../figures/PDPT-SCALABILITY-V.png')\n",
    "plt.show()"
   ],
   "id": "f46bf00006d002da",
   "outputs": [
    {
     "data": {
      "text/plain": [
       "<Figure size 640x480 with 1 Axes>"
      ],
      "image/png": "[encoded data removed]"
     },
     "metadata": {},
     "output_type": "display_data"
    }
   ],
   "execution_count": 21
  },
  {
   "metadata": {},
   "cell_type": "markdown",
   "source": "# PDPT Effect of Valid Inequalities",
   "id": "a2900263f023ba4d"
  },
  {
   "metadata": {
    "ExecuteTime": {
     "end_time": "2024-04-24T15:37:15.704619Z",
     "start_time": "2024-04-24T15:37:15.670409Z"
    }
   },
   "cell_type": "code",
   "source": [
    "df = pd.read_csv('../results/PDPT-RAIS-WITH-VI.csv')\n",
    "df = df.sort_values('Instance').reset_index(drop=True)\n",
    "\n",
    "df_lyu = df[df['Model'] == 'Lyu']\n",
    "df_lyu.set_index('Instance', inplace=True)\n",
    "df_rais = df[df['Model'] == 'Rais']\n",
    "df_rais.set_index('Instance', inplace=True)\n",
    "df_rais_vi = df[df['Model'] == 'Rais_vi']\n",
    "df_rais_vi.set_index('Instance', inplace=True)"
   ],
   "id": "b1c13a273be687fc",
   "outputs": [],
   "execution_count": 22
  },
  {
   "metadata": {
    "ExecuteTime": {
     "end_time": "2024-04-24T15:45:06.263753Z",
     "start_time": "2024-04-24T15:45:04.898642Z"
    }
   },
   "cell_type": "code",
   "source": [
    "fig, ax = plt.subplots()\n",
    "\n",
    "ax.set(title='Effect of Valid Inequalities (VI)',\n",
    "       ylabel='Time (s)',\n",
    "       yscale='log',\n",
    "       xlabel='Instance')\n",
    "\n",
    "ax.plot(df_rais['Time'], label='Rais')\n",
    "ax.plot(df_rais_vi['Time'], label='Rais with VI')\n",
    "ax.plot(df_lyu['Time'], label='Lyu')\n",
    "\n",
    "ax.set_xticks(range(0, 10), range(1, 11))\n",
    "ax.legend()\n",
    "\n",
    "\n",
    "fig.savefig('../figures/PDPT-ValidInequalities.png')\n",
    "plt.show()"
   ],
   "id": "a5dcd3f0a59ac5a2",
   "outputs": [
    {
     "data": {
      "text/plain": [
       "<Figure size 640x480 with 1 Axes>"
      ],
      "image/png": "[encoded data removed]"
     },
     "metadata": {},
     "output_type": "display_data"
    }
   ],
   "execution_count": 25
  }
 ],
 "metadata": {
  "kernelspec": {
   "display_name": "Python 3",
   "language": "python",
   "name": "python3"
  },
  "language_info": {
   "codemirror_mode": {
    "name": "ipython",
    "version": 2
   },
   "file_extension": ".py",
   "mimetype": "text/x-python",
   "name": "python",
   "nbconvert_exporter": "python",
   "pygments_lexer": "ipython2",
   "version": "2.7.6"
  }
 },
 "nbformat": 4,
 "nbformat_minor": 5
}
