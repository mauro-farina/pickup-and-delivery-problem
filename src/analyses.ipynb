{
 "cells": [
  {
   "metadata": {
    "ExecuteTime": {
     "end_time": "2024-04-24T07:48:36.897602Z",
     "start_time": "2024-04-24T07:48:35.465544Z"
    }
   },
   "cell_type": "code",
   "source": [
    "import utils\n",
    "import analyses_utils as an\n",
    "import pandas as pd"
   ],
   "id": "22929bd266193c80",
   "outputs": [],
   "execution_count": 1
  },
  {
   "metadata": {},
   "cell_type": "markdown",
   "source": "# PDPT",
   "id": "f437022b9df13381"
  },
  {
   "metadata": {},
   "cell_type": "markdown",
   "source": "## Paper",
   "id": "62d2fdc61bbbe255"
  },
  {
   "metadata": {
    "ExecuteTime": {
     "end_time": "2024-04-23T15:34:14.215398Z",
     "start_time": "2024-04-23T15:34:14.200349Z"
    }
   },
   "cell_type": "code",
   "source": "instances = utils.pick_pdpt_instances(5, 4, 'Rais')",
   "id": "1fb7eb8489c4d65c",
   "outputs": [],
   "execution_count": 2
  },
  {
   "metadata": {
    "ExecuteTime": {
     "end_time": "2024-04-23T15:55:44.787053Z",
     "start_time": "2024-04-23T15:55:44.740107Z"
    }
   },
   "cell_type": "code",
   "source": [
    "df = pd.read_csv(utils.PDPT_PAPER_RESULTS_PATH, sep='\\t')\n",
    "df = df[df['Instance'].isin(instances)]\n",
    "df['Params'] = df['Instance'].apply(lambda name: name[5:13])\n",
    "\n",
    "df_rais = df[df['Model'] == 'Rais']\n",
    "df_lyu = df[df['Model'] == 'Lyu']"
   ],
   "id": "a33203d5aa10e219",
   "outputs": [],
   "execution_count": 19
  },
  {
   "metadata": {
    "ExecuteTime": {
     "end_time": "2024-04-23T15:56:00.972105Z",
     "start_time": "2024-04-23T15:56:00.920535Z"
    }
   },
   "cell_type": "code",
   "source": "an.get_results_data(df_rais)",
   "id": "cabaca185084bb6b",
   "outputs": [
    {
     "data": {
      "text/plain": [
       "          opt  lim  no       gap            t\n",
       "Params                                       \n",
       "R5-K2-T1    4    0   0  0.000000    23.248691\n",
       "R5-K2-T2    4    0   0  0.000000    29.971921\n",
       "R5-K3-T3    4    0   0  0.000000   107.151039\n",
       "R7-K2-T1    3    1   0  0.206544  1074.042439\n",
       "R7-K2-T2    4    0   0  0.000000  1770.155523"
      ],
      "text/html": [
       "<div>\n",
       "<style scoped>\n",
       "    .dataframe tbody tr th:only-of-type {\n",
       "        vertical-align: middle;\n",
       "    }\n",
       "\n",
       "    .dataframe tbody tr th {\n",
       "        vertical-align: top;\n",
       "    }\n",
       "\n",
       "    .dataframe thead th {\n",
       "        text-align: right;\n",
       "    }\n",
       "</style>\n",
       "<table border=\"1\" class=\"dataframe\">\n",
       "  <thead>\n",
       "    <tr style=\"text-align: right;\">\n",
       "      <th></th>\n",
       "      <th>opt</th>\n",
       "      <th>lim</th>\n",
       "      <th>no</th>\n",
       "      <th>gap</th>\n",
       "      <th>t</th>\n",
       "    </tr>\n",
       "    <tr>\n",
       "      <th>Params</th>\n",
       "      <th></th>\n",
       "      <th></th>\n",
       "      <th></th>\n",
       "      <th></th>\n",
       "      <th></th>\n",
       "    </tr>\n",
       "  </thead>\n",
       "  <tbody>\n",
       "    <tr>\n",
       "      <th>R5-K2-T1</th>\n",
       "      <td>4</td>\n",
       "      <td>0</td>\n",
       "      <td>0</td>\n",
       "      <td>0.000000</td>\n",
       "      <td>23.248691</td>\n",
       "    </tr>\n",
       "    <tr>\n",
       "      <th>R5-K2-T2</th>\n",
       "      <td>4</td>\n",
       "      <td>0</td>\n",
       "      <td>0</td>\n",
       "      <td>0.000000</td>\n",
       "      <td>29.971921</td>\n",
       "    </tr>\n",
       "    <tr>\n",
       "      <th>R5-K3-T3</th>\n",
       "      <td>4</td>\n",
       "      <td>0</td>\n",
       "      <td>0</td>\n",
       "      <td>0.000000</td>\n",
       "      <td>107.151039</td>\n",
       "    </tr>\n",
       "    <tr>\n",
       "      <th>R7-K2-T1</th>\n",
       "      <td>3</td>\n",
       "      <td>1</td>\n",
       "      <td>0</td>\n",
       "      <td>0.206544</td>\n",
       "      <td>1074.042439</td>\n",
       "    </tr>\n",
       "    <tr>\n",
       "      <th>R7-K2-T2</th>\n",
       "      <td>4</td>\n",
       "      <td>0</td>\n",
       "      <td>0</td>\n",
       "      <td>0.000000</td>\n",
       "      <td>1770.155523</td>\n",
       "    </tr>\n",
       "  </tbody>\n",
       "</table>\n",
       "</div>"
      ]
     },
     "execution_count": 21,
     "metadata": {},
     "output_type": "execute_result"
    }
   ],
   "execution_count": 21
  },
  {
   "metadata": {
    "ExecuteTime": {
     "end_time": "2024-04-23T15:55:47.247194Z",
     "start_time": "2024-04-23T15:55:47.192740Z"
    }
   },
   "cell_type": "code",
   "source": "an.get_results_data(df_lyu)",
   "id": "63d243a9a6830ea2",
   "outputs": [
    {
     "data": {
      "text/plain": [
       "          opt  lim  no  gap         t\n",
       "Params                               \n",
       "R5-K2-T1    4    0   0  0.0  0.085759\n",
       "R5-K2-T2    4    0   0  0.0  0.164039\n",
       "R5-K3-T3    4    0   0  0.0  0.223778\n",
       "R7-K2-T1    4    0   0  0.0  6.525908\n",
       "R7-K2-T2    4    0   0  0.0  1.733981"
      ],
      "text/html": [
       "<div>\n",
       "<style scoped>\n",
       "    .dataframe tbody tr th:only-of-type {\n",
       "        vertical-align: middle;\n",
       "    }\n",
       "\n",
       "    .dataframe tbody tr th {\n",
       "        vertical-align: top;\n",
       "    }\n",
       "\n",
       "    .dataframe thead th {\n",
       "        text-align: right;\n",
       "    }\n",
       "</style>\n",
       "<table border=\"1\" class=\"dataframe\">\n",
       "  <thead>\n",
       "    <tr style=\"text-align: right;\">\n",
       "      <th></th>\n",
       "      <th>opt</th>\n",
       "      <th>lim</th>\n",
       "      <th>no</th>\n",
       "      <th>gap</th>\n",
       "      <th>t</th>\n",
       "    </tr>\n",
       "    <tr>\n",
       "      <th>Params</th>\n",
       "      <th></th>\n",
       "      <th></th>\n",
       "      <th></th>\n",
       "      <th></th>\n",
       "      <th></th>\n",
       "    </tr>\n",
       "  </thead>\n",
       "  <tbody>\n",
       "    <tr>\n",
       "      <th>R5-K2-T1</th>\n",
       "      <td>4</td>\n",
       "      <td>0</td>\n",
       "      <td>0</td>\n",
       "      <td>0.0</td>\n",
       "      <td>0.085759</td>\n",
       "    </tr>\n",
       "    <tr>\n",
       "      <th>R5-K2-T2</th>\n",
       "      <td>4</td>\n",
       "      <td>0</td>\n",
       "      <td>0</td>\n",
       "      <td>0.0</td>\n",
       "      <td>0.164039</td>\n",
       "    </tr>\n",
       "    <tr>\n",
       "      <th>R5-K3-T3</th>\n",
       "      <td>4</td>\n",
       "      <td>0</td>\n",
       "      <td>0</td>\n",
       "      <td>0.0</td>\n",
       "      <td>0.223778</td>\n",
       "    </tr>\n",
       "    <tr>\n",
       "      <th>R7-K2-T1</th>\n",
       "      <td>4</td>\n",
       "      <td>0</td>\n",
       "      <td>0</td>\n",
       "      <td>0.0</td>\n",
       "      <td>6.525908</td>\n",
       "    </tr>\n",
       "    <tr>\n",
       "      <th>R7-K2-T2</th>\n",
       "      <td>4</td>\n",
       "      <td>0</td>\n",
       "      <td>0</td>\n",
       "      <td>0.0</td>\n",
       "      <td>1.733981</td>\n",
       "    </tr>\n",
       "  </tbody>\n",
       "</table>\n",
       "</div>"
      ]
     },
     "execution_count": 20,
     "metadata": {},
     "output_type": "execute_result"
    }
   ],
   "execution_count": 20
  },
  {
   "metadata": {},
   "cell_type": "markdown",
   "source": "## Project",
   "id": "339f3b7efa10d9c7"
  },
  {
   "metadata": {
    "ExecuteTime": {
     "end_time": "2024-04-23T15:57:39.814742Z",
     "start_time": "2024-04-23T15:57:39.794963Z"
    }
   },
   "cell_type": "code",
   "source": [
    "df = pd.read_csv('../results/PDPT.csv')\n",
    "df['Params'] = df['Instance'].apply(lambda name: name[5:13])\n",
    "\n",
    "df_rais = df[df['Model'] == 'Rais']\n",
    "df_lyu = df[df['Model'] == 'Lyu']"
   ],
   "id": "955bd3d764a49f18",
   "outputs": [],
   "execution_count": 22
  },
  {
   "metadata": {
    "ExecuteTime": {
     "end_time": "2024-04-23T15:57:40.144132Z",
     "start_time": "2024-04-23T15:57:40.095627Z"
    }
   },
   "cell_type": "code",
   "source": "an.get_results_data(df_rais)",
   "id": "8fdec8213d760849",
   "outputs": [
    {
     "data": {
      "text/plain": [
       "          opt  lim  no       gap           t\n",
       "Params                                      \n",
       "R5-K2-T1    4    0   0  0.000000    31.42925\n",
       "R5-K2-T2    4    0   0  0.000000    40.26250\n",
       "R5-K3-T3    4    0   0  0.000000   221.65050\n",
       "R7-K2-T1    2    2   0  0.140698   457.97950\n",
       "R7-K2-T2    4    0   0  0.000000  2162.41000"
      ],
      "text/html": [
       "<div>\n",
       "<style scoped>\n",
       "    .dataframe tbody tr th:only-of-type {\n",
       "        vertical-align: middle;\n",
       "    }\n",
       "\n",
       "    .dataframe tbody tr th {\n",
       "        vertical-align: top;\n",
       "    }\n",
       "\n",
       "    .dataframe thead th {\n",
       "        text-align: right;\n",
       "    }\n",
       "</style>\n",
       "<table border=\"1\" class=\"dataframe\">\n",
       "  <thead>\n",
       "    <tr style=\"text-align: right;\">\n",
       "      <th></th>\n",
       "      <th>opt</th>\n",
       "      <th>lim</th>\n",
       "      <th>no</th>\n",
       "      <th>gap</th>\n",
       "      <th>t</th>\n",
       "    </tr>\n",
       "    <tr>\n",
       "      <th>Params</th>\n",
       "      <th></th>\n",
       "      <th></th>\n",
       "      <th></th>\n",
       "      <th></th>\n",
       "      <th></th>\n",
       "    </tr>\n",
       "  </thead>\n",
       "  <tbody>\n",
       "    <tr>\n",
       "      <th>R5-K2-T1</th>\n",
       "      <td>4</td>\n",
       "      <td>0</td>\n",
       "      <td>0</td>\n",
       "      <td>0.000000</td>\n",
       "      <td>31.42925</td>\n",
       "    </tr>\n",
       "    <tr>\n",
       "      <th>R5-K2-T2</th>\n",
       "      <td>4</td>\n",
       "      <td>0</td>\n",
       "      <td>0</td>\n",
       "      <td>0.000000</td>\n",
       "      <td>40.26250</td>\n",
       "    </tr>\n",
       "    <tr>\n",
       "      <th>R5-K3-T3</th>\n",
       "      <td>4</td>\n",
       "      <td>0</td>\n",
       "      <td>0</td>\n",
       "      <td>0.000000</td>\n",
       "      <td>221.65050</td>\n",
       "    </tr>\n",
       "    <tr>\n",
       "      <th>R7-K2-T1</th>\n",
       "      <td>2</td>\n",
       "      <td>2</td>\n",
       "      <td>0</td>\n",
       "      <td>0.140698</td>\n",
       "      <td>457.97950</td>\n",
       "    </tr>\n",
       "    <tr>\n",
       "      <th>R7-K2-T2</th>\n",
       "      <td>4</td>\n",
       "      <td>0</td>\n",
       "      <td>0</td>\n",
       "      <td>0.000000</td>\n",
       "      <td>2162.41000</td>\n",
       "    </tr>\n",
       "  </tbody>\n",
       "</table>\n",
       "</div>"
      ]
     },
     "execution_count": 23,
     "metadata": {},
     "output_type": "execute_result"
    }
   ],
   "execution_count": 23
  },
  {
   "metadata": {
    "ExecuteTime": {
     "end_time": "2024-04-23T15:57:40.909961Z",
     "start_time": "2024-04-23T15:57:40.859276Z"
    }
   },
   "cell_type": "code",
   "source": "an.get_results_data(df_lyu)",
   "id": "703840e9488fcd54",
   "outputs": [
    {
     "data": {
      "text/plain": [
       "          opt  lim  no  gap        t\n",
       "Params                              \n",
       "R5-K2-T1    4    0   0  0.0  0.15175\n",
       "R5-K2-T2    4    0   0  0.0  0.31450\n",
       "R5-K3-T3    4    0   0  0.0  0.40925\n",
       "R7-K2-T1    4    0   0  0.0  7.90625\n",
       "R7-K2-T2    4    0   0  0.0  1.37425"
      ],
      "text/html": [
       "<div>\n",
       "<style scoped>\n",
       "    .dataframe tbody tr th:only-of-type {\n",
       "        vertical-align: middle;\n",
       "    }\n",
       "\n",
       "    .dataframe tbody tr th {\n",
       "        vertical-align: top;\n",
       "    }\n",
       "\n",
       "    .dataframe thead th {\n",
       "        text-align: right;\n",
       "    }\n",
       "</style>\n",
       "<table border=\"1\" class=\"dataframe\">\n",
       "  <thead>\n",
       "    <tr style=\"text-align: right;\">\n",
       "      <th></th>\n",
       "      <th>opt</th>\n",
       "      <th>lim</th>\n",
       "      <th>no</th>\n",
       "      <th>gap</th>\n",
       "      <th>t</th>\n",
       "    </tr>\n",
       "    <tr>\n",
       "      <th>Params</th>\n",
       "      <th></th>\n",
       "      <th></th>\n",
       "      <th></th>\n",
       "      <th></th>\n",
       "      <th></th>\n",
       "    </tr>\n",
       "  </thead>\n",
       "  <tbody>\n",
       "    <tr>\n",
       "      <th>R5-K2-T1</th>\n",
       "      <td>4</td>\n",
       "      <td>0</td>\n",
       "      <td>0</td>\n",
       "      <td>0.0</td>\n",
       "      <td>0.15175</td>\n",
       "    </tr>\n",
       "    <tr>\n",
       "      <th>R5-K2-T2</th>\n",
       "      <td>4</td>\n",
       "      <td>0</td>\n",
       "      <td>0</td>\n",
       "      <td>0.0</td>\n",
       "      <td>0.31450</td>\n",
       "    </tr>\n",
       "    <tr>\n",
       "      <th>R5-K3-T3</th>\n",
       "      <td>4</td>\n",
       "      <td>0</td>\n",
       "      <td>0</td>\n",
       "      <td>0.0</td>\n",
       "      <td>0.40925</td>\n",
       "    </tr>\n",
       "    <tr>\n",
       "      <th>R7-K2-T1</th>\n",
       "      <td>4</td>\n",
       "      <td>0</td>\n",
       "      <td>0</td>\n",
       "      <td>0.0</td>\n",
       "      <td>7.90625</td>\n",
       "    </tr>\n",
       "    <tr>\n",
       "      <th>R7-K2-T2</th>\n",
       "      <td>4</td>\n",
       "      <td>0</td>\n",
       "      <td>0</td>\n",
       "      <td>0.0</td>\n",
       "      <td>1.37425</td>\n",
       "    </tr>\n",
       "  </tbody>\n",
       "</table>\n",
       "</div>"
      ]
     },
     "execution_count": 24,
     "metadata": {},
     "output_type": "execute_result"
    }
   ],
   "execution_count": 24
  },
  {
   "metadata": {},
   "cell_type": "markdown",
   "source": "# PDPTWT",
   "id": "7edd5a0b174f5108"
  },
  {
   "metadata": {
    "ExecuteTime": {
     "end_time": "2024-04-24T07:48:39.135411Z",
     "start_time": "2024-04-24T07:48:38.383734Z"
    }
   },
   "cell_type": "code",
   "source": "pdptwt_instances = utils.pick_pdptwt_instances(2, 'Sampaio', skip=['180', '300', '5T'])",
   "id": "4eb6ef6973ec4d4",
   "outputs": [
    {
     "ename": "NameError",
     "evalue": "name '_PDPTWT_PAPER_RESULTS_PATH' is not defined",
     "output_type": "error",
     "traceback": [
      "\u001B[1;31m---------------------------------------------------------------------------\u001B[0m",
      "\u001B[1;31mNameError\u001B[0m                                 Traceback (most recent call last)",
      "Cell \u001B[1;32mIn[2], line 1\u001B[0m\n\u001B[1;32m----> 1\u001B[0m pdptwt_instances \u001B[38;5;241m=\u001B[39m \u001B[43mutils\u001B[49m\u001B[38;5;241;43m.\u001B[39;49m\u001B[43mpick_pdptwt_instances\u001B[49m\u001B[43m(\u001B[49m\u001B[38;5;241;43m2\u001B[39;49m\u001B[43m,\u001B[49m\u001B[43m \u001B[49m\u001B[38;5;124;43m'\u001B[39;49m\u001B[38;5;124;43mSampaio\u001B[39;49m\u001B[38;5;124;43m'\u001B[39;49m\u001B[43m,\u001B[49m\u001B[43m \u001B[49m\u001B[43mskip\u001B[49m\u001B[38;5;241;43m=\u001B[39;49m\u001B[43m[\u001B[49m\u001B[38;5;124;43m'\u001B[39;49m\u001B[38;5;124;43m180\u001B[39;49m\u001B[38;5;124;43m'\u001B[39;49m\u001B[43m,\u001B[49m\u001B[43m \u001B[49m\u001B[38;5;124;43m'\u001B[39;49m\u001B[38;5;124;43m300\u001B[39;49m\u001B[38;5;124;43m'\u001B[39;49m\u001B[43m,\u001B[49m\u001B[43m \u001B[49m\u001B[38;5;124;43m'\u001B[39;49m\u001B[38;5;124;43m5T\u001B[39;49m\u001B[38;5;124;43m'\u001B[39;49m\u001B[43m]\u001B[49m\u001B[43m)\u001B[49m\n",
      "File \u001B[1;32m~\\Documents\\PyCharm\\PDP-T\\src\\utils.py:176\u001B[0m, in \u001B[0;36mpick_pdptwt_instances\u001B[1;34m(k, model, skip)\u001B[0m\n\u001B[0;32m    167\u001B[0m \u001B[38;5;250m\u001B[39m\u001B[38;5;124;03m\"\"\"\u001B[39;00m\n\u001B[0;32m    168\u001B[0m \u001B[38;5;124;03mPick k instances for each configuration around the median value w.r.t. 'Time'\u001B[39;00m\n\u001B[0;32m    169\u001B[0m \u001B[38;5;124;03m:param k:number of instances per configuration\u001B[39;00m\n\u001B[1;32m   (...)\u001B[0m\n\u001B[0;32m    172\u001B[0m \u001B[38;5;124;03m:return: list of instances names\u001B[39;00m\n\u001B[0;32m    173\u001B[0m \u001B[38;5;124;03m\"\"\"\u001B[39;00m\n\u001B[0;32m    174\u001B[0m k \u001B[38;5;241m=\u001B[39m \u001B[38;5;28mmin\u001B[39m(_N_INSTANCES_PER_CONFIG, k)\n\u001B[1;32m--> 176\u001B[0m df \u001B[38;5;241m=\u001B[39m pd\u001B[38;5;241m.\u001B[39mread_csv(\u001B[43m_PDPTWT_PAPER_RESULTS_PATH\u001B[49m, sep\u001B[38;5;241m=\u001B[39m\u001B[38;5;124m'\u001B[39m\u001B[38;5;130;01m\\t\u001B[39;00m\u001B[38;5;124m'\u001B[39m)\n\u001B[0;32m    177\u001B[0m df \u001B[38;5;241m=\u001B[39m df[df[\u001B[38;5;124m'\u001B[39m\u001B[38;5;124mModel\u001B[39m\u001B[38;5;124m'\u001B[39m] \u001B[38;5;241m==\u001B[39m model]\n\u001B[0;32m    179\u001B[0m pdptw_instances \u001B[38;5;241m=\u001B[39m \u001B[38;5;28mlist\u001B[39m()\n",
      "\u001B[1;31mNameError\u001B[0m: name '_PDPTWT_PAPER_RESULTS_PATH' is not defined"
     ]
    }
   ],
   "execution_count": 2
  },
  {
   "metadata": {},
   "cell_type": "code",
   "outputs": [],
   "execution_count": null,
   "source": "",
   "id": "efdd2ab1900540ad"
  }
 ],
 "metadata": {
  "kernelspec": {
   "display_name": "Python 3",
   "language": "python",
   "name": "python3"
  },
  "language_info": {
   "codemirror_mode": {
    "name": "ipython",
    "version": 2
   },
   "file_extension": ".py",
   "mimetype": "text/x-python",
   "name": "python",
   "nbconvert_exporter": "python",
   "pygments_lexer": "ipython2",
   "version": "2.7.6"
  }
 },
 "nbformat": 4,
 "nbformat_minor": 5
}
