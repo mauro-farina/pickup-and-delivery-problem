{
 "cells": [
  {
   "cell_type": "code",
   "execution_count": 1,
   "id": "initial_id",
   "metadata": {
    "collapsed": true,
    "ExecuteTime": {
     "end_time": "2024-04-06T09:55:13.401665Z",
     "start_time": "2024-04-06T09:55:12.806518Z"
    }
   },
   "outputs": [],
   "source": [
    "from pathlib import Path\n",
    "\n",
    "from src.lyu import Lyu\n",
    "from src.rais import Rais\n",
    "from src.sampaio import Sampaio\n",
    "\n",
    "import pandas as pd\n",
    "import utils"
   ]
  },
  {
   "cell_type": "markdown",
   "source": [
    "# PDPT"
   ],
   "metadata": {
    "collapsed": false
   },
   "id": "724f224c1d40caab"
  },
  {
   "cell_type": "code",
   "outputs": [],
   "source": [
    "pdpt_data_dir = Path(\"../data/PDPT\")\n",
    "pdpt_instances = utils.pick_pdpt_instances(5, 4)"
   ],
   "metadata": {
    "collapsed": false,
    "ExecuteTime": {
     "end_time": "2024-04-06T09:55:13.423312Z",
     "start_time": "2024-04-06T09:55:13.405092Z"
    }
   },
   "id": "27a51b81efd3192d",
   "execution_count": 2
  },
  {
   "cell_type": "code",
   "outputs": [
    {
     "data": {
      "text/plain": "['PDPT-R5-K2-T1-Q100-8.txt',\n 'PDPT-R5-K2-T1-Q100-0.txt',\n 'PDPT-R5-K2-T1-Q100-7.txt',\n 'PDPT-R5-K2-T1-Q100-6.txt',\n 'PDPT-R5-K2-T2-Q100-7.txt',\n 'PDPT-R5-K2-T2-Q100-6.txt',\n 'PDPT-R5-K2-T2-Q100-8.txt',\n 'PDPT-R5-K2-T2-Q100-3.txt',\n 'PDPT-R5-K3-T3-Q100-9.txt',\n 'PDPT-R5-K3-T3-Q100-0.txt',\n 'PDPT-R5-K3-T3-Q100-6.txt',\n 'PDPT-R5-K3-T3-Q100-7.txt',\n 'PDPT-R7-K2-T1-Q100-4.txt',\n 'PDPT-R7-K2-T1-Q100-1.txt',\n 'PDPT-R7-K2-T1-Q100-2.txt',\n 'PDPT-R7-K2-T1-Q100-3.txt',\n 'PDPT-R7-K2-T2-Q100-4.txt',\n 'PDPT-R7-K2-T2-Q100-8.txt',\n 'PDPT-R7-K2-T2-Q100-1.txt',\n 'PDPT-R7-K2-T2-Q100-5.txt']"
     },
     "execution_count": 3,
     "metadata": {},
     "output_type": "execute_result"
    }
   ],
   "source": [
    "pdpt_instances"
   ],
   "metadata": {
    "collapsed": false,
    "ExecuteTime": {
     "end_time": "2024-04-06T09:55:13.436881Z",
     "start_time": "2024-04-06T09:55:13.424517Z"
    }
   },
   "id": "a65b58852d085678",
   "execution_count": 3
  },
  {
   "cell_type": "code",
   "outputs": [
    {
     "name": "stdout",
     "output_type": "stream",
     "text": [
      "Set parameter Username\n",
      "Academic license - for non-commercial use only - expires 2025-03-08\n",
      "Rais ('OPTIMAL', 512.7914791, 0.0, 24.34999990463257)\n",
      "Lyu ('OPTIMAL', 512.7914791, 0.0, 0.11300015449523926)\n",
      "Rais ('OPTIMAL', 405.5462763, 0.0, 41.03600001335144)\n",
      "Lyu ('OPTIMAL', 405.5462763, 0.0, 0.10800004005432129)\n",
      "Rais ('OPTIMAL', 403.925958, 0.0, 11.452000141143799)\n",
      "Lyu ('OPTIMAL', 403.925958, 0.0, 0.1400001049041748)\n",
      "Rais ('OPTIMAL', 341.6068116, 0.0, 40.88699984550476)\n",
      "Lyu ('OPTIMAL', 341.6068116, 0.0, 0.14800000190734863)\n"
     ]
    }
   ],
   "source": [
    "for instances_dir in pdpt_data_dir.iterdir():\n",
    "    if not instances_dir.is_dir():\n",
    "        continue\n",
    "    \n",
    "    for instance in instances_dir.iterdir():\n",
    "        if not instance.is_file() or instance.name not in pdpt_instances:\n",
    "            continue\n",
    "\n",
    "        graph, vehicles, requests = utils.get_problem_instance(instance)\n",
    "        \n",
    "        rais = Rais(graph, vehicles, requests)\n",
    "        rais.optimize()\n",
    "        \n",
    "        result = rais.get_result()\n",
    "        print('Rais', result)\n",
    "        utils.log_result('PDPT', 'Rais', instance.name, result)\n",
    "        \n",
    "        lyu = Lyu(graph, vehicles, requests)\n",
    "        lyu.optimize()\n",
    "        \n",
    "        result = lyu.get_result()\n",
    "        print('Lyu', result)\n",
    "        utils.log_result('PDPT', 'Lyu', instance.name, result)\n"
   ],
   "metadata": {
    "collapsed": false,
    "is_executing": true,
    "ExecuteTime": {
     "start_time": "2024-04-06T09:55:13.439713Z"
    }
   },
   "id": "36d5d2b23536cd9d",
   "execution_count": null
  }
 ],
 "metadata": {
  "kernelspec": {
   "display_name": "Python 3",
   "language": "python",
   "name": "python3"
  },
  "language_info": {
   "codemirror_mode": {
    "name": "ipython",
    "version": 2
   },
   "file_extension": ".py",
   "mimetype": "text/x-python",
   "name": "python",
   "nbconvert_exporter": "python",
   "pygments_lexer": "ipython2",
   "version": "2.7.6"
  }
 },
 "nbformat": 4,
 "nbformat_minor": 5
}
