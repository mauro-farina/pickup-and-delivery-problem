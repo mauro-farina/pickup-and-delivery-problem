{
 "cells": [
  {
   "cell_type": "code",
   "id": "initial_id",
   "metadata": {
    "collapsed": true,
    "ExecuteTime": {
     "end_time": "2024-04-09T14:13:11.225959Z",
     "start_time": "2024-04-09T14:13:10.372420Z"
    }
   },
   "source": [
    "from pathlib import Path\n",
    "\n",
    "from src.lyu import Lyu\n",
    "from src.rais import Rais\n",
    "from src.sampaio import Sampaio\n",
    "\n",
    "import utils"
   ],
   "outputs": [],
   "execution_count": 1
  },
  {
   "cell_type": "markdown",
   "source": [
    "# PDPT\n",
    "Pickup-and-Delivery Problem With Transshipments"
   ],
   "metadata": {
    "collapsed": false
   },
   "id": "724f224c1d40caab"
  },
  {
   "cell_type": "code",
   "source": [
    "pdpt_data_dir = Path(\"../data/PDPT\")\n",
    "pdpt_instances = utils.pick_pdpt_instances(5, 4, 'Rais')"
   ],
   "metadata": {
    "collapsed": false,
    "ExecuteTime": {
     "end_time": "2024-04-09T13:25:40.259244Z",
     "start_time": "2024-04-09T13:25:40.233015Z"
    }
   },
   "id": "27a51b81efd3192d",
   "outputs": [],
   "execution_count": 2
  },
  {
   "cell_type": "code",
   "source": [
    "pdpt_instances"
   ],
   "metadata": {
    "collapsed": false,
    "ExecuteTime": {
     "end_time": "2024-04-09T13:25:57.426690Z",
     "start_time": "2024-04-09T13:25:57.407413Z"
    }
   },
   "id": "a65b58852d085678",
   "outputs": [
    {
     "data": {
      "text/plain": [
       "['PDPT-R5-K2-T1-Q100-8.txt',\n",
       " 'PDPT-R5-K2-T1-Q100-0.txt',\n",
       " 'PDPT-R5-K2-T1-Q100-7.txt',\n",
       " 'PDPT-R5-K2-T1-Q100-6.txt',\n",
       " 'PDPT-R5-K2-T2-Q100-7.txt',\n",
       " 'PDPT-R5-K2-T2-Q100-6.txt',\n",
       " 'PDPT-R5-K2-T2-Q100-8.txt',\n",
       " 'PDPT-R5-K2-T2-Q100-3.txt',\n",
       " 'PDPT-R5-K3-T3-Q100-9.txt',\n",
       " 'PDPT-R5-K3-T3-Q100-0.txt',\n",
       " 'PDPT-R5-K3-T3-Q100-6.txt',\n",
       " 'PDPT-R5-K3-T3-Q100-7.txt',\n",
       " 'PDPT-R7-K2-T1-Q100-4.txt',\n",
       " 'PDPT-R7-K2-T1-Q100-1.txt',\n",
       " 'PDPT-R7-K2-T1-Q100-2.txt',\n",
       " 'PDPT-R7-K2-T1-Q100-3.txt',\n",
       " 'PDPT-R7-K2-T2-Q100-4.txt',\n",
       " 'PDPT-R7-K2-T2-Q100-8.txt',\n",
       " 'PDPT-R7-K2-T2-Q100-1.txt',\n",
       " 'PDPT-R7-K2-T2-Q100-5.txt']"
      ]
     },
     "execution_count": 3,
     "metadata": {},
     "output_type": "execute_result"
    }
   ],
   "execution_count": 3
  },
  {
   "cell_type": "code",
   "source": [
    "for instances_dir in pdpt_data_dir.iterdir():\n",
    "    if not instances_dir.is_dir():\n",
    "        continue\n",
    "    \n",
    "    for instance in instances_dir.iterdir():\n",
    "        if not instance.is_file() or instance.name not in pdpt_instances:\n",
    "            continue\n",
    "\n",
    "        graph, vehicles, requests = utils.get_instance_data(instance)\n",
    "        \n",
    "        rais = Rais(graph, vehicles, requests)\n",
    "        rais.optimize()\n",
    "        \n",
    "        result = rais.get_result()\n",
    "        utils.log_result('PDPT', 'Rais', instance.name, result)\n",
    "        \n",
    "        lyu = Lyu(graph, vehicles, requests)\n",
    "        lyu.optimize()\n",
    "        \n",
    "        result = lyu.get_result()\n",
    "        utils.log_result('PDPT', 'Lyu', instance.name, result)\n",
    "        \n",
    "        print(instance.name, 'completed')"
   ],
   "metadata": {
    "collapsed": false,
    "ExecuteTime": {
     "end_time": "2024-04-08T11:50:44.506738Z",
     "start_time": "2024-04-08T06:50:50.703977Z"
    }
   },
   "id": "36d5d2b23536cd9d",
   "outputs": [
    {
     "name": "stdout",
     "output_type": "stream",
     "text": [
      "Set parameter Username\n",
      "Academic license - for non-commercial use only - expires 2025-03-08\n",
      "PDPT-R5-K2-T1-Q100-0.txt completed\n",
      "PDPT-R5-K2-T1-Q100-6.txt completed\n",
      "PDPT-R5-K2-T1-Q100-7.txt completed\n",
      "PDPT-R5-K2-T1-Q100-8.txt completed\n",
      "PDPT-R5-K2-T2-Q100-3.txt completed\n",
      "PDPT-R5-K2-T2-Q100-6.txt completed\n",
      "PDPT-R5-K2-T2-Q100-7.txt completed\n",
      "PDPT-R5-K2-T2-Q100-8.txt completed\n",
      "PDPT-R5-K3-T3-Q100-0.txt completed\n",
      "PDPT-R5-K3-T3-Q100-6.txt completed\n",
      "PDPT-R5-K3-T3-Q100-7.txt completed\n",
      "PDPT-R5-K3-T3-Q100-9.txt completed\n",
      "PDPT-R7-K2-T1-Q100-1.txt completed\n",
      "PDPT-R7-K2-T1-Q100-2.txt completed\n",
      "PDPT-R7-K2-T1-Q100-3.txt completed\n",
      "PDPT-R7-K2-T1-Q100-4.txt completed\n",
      "PDPT-R7-K2-T2-Q100-1.txt completed\n",
      "PDPT-R7-K2-T2-Q100-4.txt completed\n",
      "PDPT-R7-K2-T2-Q100-5.txt completed\n",
      "PDPT-R7-K2-T2-Q100-8.txt completed\n"
     ]
    }
   ],
   "execution_count": 4
  },
  {
   "cell_type": "markdown",
   "source": [
    "# PDPTW\n",
    "Pickup-and-Delivery Problem With Transshipments and Time Windows constraints"
   ],
   "metadata": {
    "collapsed": false
   },
   "id": "ed72b24c3f5f2059"
  },
  {
   "cell_type": "code",
   "source": [
    "pdptwt_data_dir = Path(\"../data/PDPTWT\")\n",
    "pdptwt_instances = utils.pick_pdptwt_instances(2, skip=['180', '300', '5T'])"
   ],
   "metadata": {
    "collapsed": false,
    "ExecuteTime": {
     "end_time": "2024-04-09T14:17:20.748299Z",
     "start_time": "2024-04-09T14:17:20.677706Z"
    }
   },
   "id": "401c3302e9a32acc",
   "outputs": [],
   "execution_count": 4
  },
  {
   "cell_type": "code",
   "source": "pdptwt_instances",
   "metadata": {
    "collapsed": false,
    "ExecuteTime": {
     "end_time": "2024-04-09T14:17:51.524966Z",
     "start_time": "2024-04-09T14:17:51.505634Z"
    }
   },
   "id": "47e4880cd21ce6e",
   "outputs": [
    {
     "data": {
      "text/plain": [
       "['3R-4K-4T-240L-4.txt',\n",
       " '3R-4K-4T-240L-7.txt',\n",
       " '3R-4K-4T-240M-8.txt',\n",
       " '3R-4K-4T-240M-1.txt',\n",
       " '3R-4K-4T-240S-6.txt',\n",
       " '3R-4K-4T-240S-4.txt',\n",
       " '4R-4K-4T-240L-6.txt',\n",
       " '4R-4K-4T-240L-3.txt',\n",
       " '4R-4K-4T-240M-8.txt',\n",
       " '4R-4K-4T-240M-6.txt',\n",
       " '4R-4K-4T-240S-4.txt',\n",
       " '4R-4K-4T-240S-5.txt',\n",
       " '5R-4K-4T-240L-8.txt',\n",
       " '5R-4K-4T-240L-2.txt',\n",
       " '5R-4K-4T-240M-6.txt',\n",
       " '5R-4K-4T-240M-0.txt',\n",
       " '5R-4K-4T-240S-0.txt',\n",
       " '5R-4K-4T-240S-5.txt']"
      ]
     },
     "execution_count": 7,
     "metadata": {},
     "output_type": "execute_result"
    }
   ],
   "execution_count": 7
  },
  {
   "cell_type": "code",
   "outputs": [],
   "source": [
    "for instances_dir in pdptwt_data_dir.iterdir():\n",
    "    if not instances_dir.is_dir():\n",
    "        continue\n",
    "    \n",
    "    for instance in instances_dir.iterdir():\n",
    "        if not instance.is_file() or instance.name not in pdptwt_instances:\n",
    "            continue\n",
    "\n",
    "        graph, vehicles, requests = utils.get_instance_data(instance)\n",
    "        \n",
    "        sampaio = Sampaio(graph, vehicles, requests)\n",
    "        sampaio.optimize()\n",
    "        \n",
    "        result = sampaio.get_result()\n",
    "        print('Sampaio', result)\n",
    "        utils.log_result('PDPTWT', 'Sampaio', instance.name, result)\n",
    "        \n",
    "        lyu = Lyu(graph, vehicles, requests)\n",
    "        lyu.optimize()\n",
    "        \n",
    "        result = lyu.get_result()\n",
    "        print('Lyu', result)\n",
    "        utils.log_result('PDPTWT', 'Lyu', instance.name, result)"
   ],
   "metadata": {
    "collapsed": false
   },
   "id": "b7b034a4872bb458",
   "execution_count": null
  },
  {
   "metadata": {},
   "cell_type": "markdown",
   "source": "# PDPT - Lyu model scalability",
   "id": "99708bd4a395f8a9"
  },
  {
   "metadata": {
    "ExecuteTime": {
     "end_time": "2024-04-09T14:11:05.783174Z",
     "start_time": "2024-04-09T14:11:05.738761Z"
    }
   },
   "cell_type": "code",
   "source": [
    "pdpt_data_dir = Path(\"../data/PDPT\")\n",
    "pdpt_instances = utils.pick_pdpt_instances(16, 4, 'Lyu', skip=['R7', 'R12', 'R25', 'T2', 'T3'])"
   ],
   "id": "ccf088849a88e162",
   "outputs": [],
   "execution_count": 2
  },
  {
   "metadata": {
    "ExecuteTime": {
     "end_time": "2024-04-09T14:11:10.261587Z",
     "start_time": "2024-04-09T14:11:10.246440Z"
    }
   },
   "cell_type": "code",
   "source": "pdpt_instances",
   "id": "57738fa8d2b41678",
   "outputs": [
    {
     "data": {
      "text/plain": [
       "['PDPT-R5-K2-T1-Q100-4.txt',\n",
       " 'PDPT-R5-K2-T1-Q100-8.txt',\n",
       " 'PDPT-R5-K2-T1-Q100-3.txt',\n",
       " 'PDPT-R5-K2-T1-Q100-7.txt',\n",
       " 'PDPT-R10-K2-T1-Q100-1.txt',\n",
       " 'PDPT-R10-K2-T1-Q100-4.txt',\n",
       " 'PDPT-R10-K2-T1-Q100-8.txt',\n",
       " 'PDPT-R10-K2-T1-Q100-7.txt',\n",
       " 'PDPT-R15-K2-T1-Q100-2.txt',\n",
       " 'PDPT-R15-K2-T1-Q100-9.txt',\n",
       " 'PDPT-R15-K2-T1-Q100-6.txt',\n",
       " 'PDPT-R15-K2-T1-Q100-4.txt',\n",
       " 'PDPT-R20-K2-T1-Q100-4.txt',\n",
       " 'PDPT-R20-K2-T1-Q100-1.txt',\n",
       " 'PDPT-R20-K2-T1-Q100-2.txt',\n",
       " 'PDPT-R20-K2-T1-Q100-7.txt']"
      ]
     },
     "execution_count": 3,
     "metadata": {},
     "output_type": "execute_result"
    }
   ],
   "execution_count": 3
  }
 ],
 "metadata": {
  "kernelspec": {
   "display_name": "Python 3",
   "language": "python",
   "name": "python3"
  },
  "language_info": {
   "codemirror_mode": {
    "name": "ipython",
    "version": 2
   },
   "file_extension": ".py",
   "mimetype": "text/x-python",
   "name": "python",
   "nbconvert_exporter": "python",
   "pygments_lexer": "ipython2",
   "version": "2.7.6"
  }
 },
 "nbformat": 4,
 "nbformat_minor": 5
}
