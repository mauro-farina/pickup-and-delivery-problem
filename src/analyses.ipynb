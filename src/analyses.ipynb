{
 "cells": [
  {
   "cell_type": "code",
   "execution_count": null,
   "id": "initial_id",
   "metadata": {
    "collapsed": true
   },
   "outputs": [],
   "source": [
    "from pathlib import Path\n",
    "\n",
    "from src.lyu import Lyu\n",
    "from src.rais import Rais\n",
    "from src.sampaio import Sampaio\n",
    "\n",
    "import utils"
   ]
  },
  {
   "cell_type": "markdown",
   "source": [
    "# PDPT\n",
    "Pickup-and-Delivery Problem With Transshipments"
   ],
   "metadata": {
    "collapsed": false
   },
   "id": "724f224c1d40caab"
  },
  {
   "cell_type": "code",
   "outputs": [],
   "source": [
    "pdpt_data_dir = Path(\"../data/PDPT\")\n",
    "pdpt_instances = utils.pick_pdpt_instances(5, 4)"
   ],
   "metadata": {
    "collapsed": false
   },
   "id": "27a51b81efd3192d",
   "execution_count": null
  },
  {
   "cell_type": "code",
   "outputs": [],
   "source": [
    "pdpt_instances"
   ],
   "metadata": {
    "collapsed": false
   },
   "id": "a65b58852d085678",
   "execution_count": null
  },
  {
   "cell_type": "code",
   "outputs": [],
   "source": [
    "for instances_dir in pdpt_data_dir.iterdir():\n",
    "    if not instances_dir.is_dir():\n",
    "        continue\n",
    "    \n",
    "    for instance in instances_dir.iterdir():\n",
    "        if not instance.is_file() or instance.name not in pdpt_instances:\n",
    "            continue\n",
    "\n",
    "        graph, vehicles, requests = utils.get_instance_data(instance)\n",
    "        \n",
    "        rais = Rais(graph, vehicles, requests)\n",
    "        rais.optimize()\n",
    "        \n",
    "        result = rais.get_result()\n",
    "        print('Rais', result)\n",
    "        utils.log_result('PDPT', 'Rais', instance.name, result)\n",
    "        \n",
    "        lyu = Lyu(graph, vehicles, requests)\n",
    "        lyu.optimize()\n",
    "        \n",
    "        result = lyu.get_result()\n",
    "        print('Lyu', result)\n",
    "        utils.log_result('PDPT', 'Lyu', instance.name, result)"
   ],
   "metadata": {
    "collapsed": false
   },
   "id": "36d5d2b23536cd9d",
   "execution_count": null
  },
  {
   "cell_type": "markdown",
   "source": [
    "# PDPTW\n",
    "Pickup-and-Delivery Problem With Transshipments and Time Windows constraints"
   ],
   "metadata": {
    "collapsed": false
   },
   "id": "ed72b24c3f5f2059"
  },
  {
   "cell_type": "code",
   "outputs": [],
   "source": [
    "pdptwt_data_dir = Path(\"../data/PDPTWT\")\n",
    "pdptwt_instances = utils.pick_pdptwt_instances(2)"
   ],
   "metadata": {
    "collapsed": false
   },
   "id": "401c3302e9a32acc",
   "execution_count": null
  },
  {
   "cell_type": "code",
   "outputs": [],
   "source": [
    "pdptwt_instances"
   ],
   "metadata": {
    "collapsed": false
   },
   "id": "47e4880cd21ce6e",
   "execution_count": null
  },
  {
   "cell_type": "code",
   "outputs": [],
   "source": [
    "for instances_dir in pdptwt_data_dir.iterdir():\n",
    "    if not instances_dir.is_dir():\n",
    "        continue\n",
    "    \n",
    "    for instance in instances_dir.iterdir():\n",
    "        if not instance.is_file() or instance.name not in pdpt_instances:\n",
    "            continue\n",
    "\n",
    "        graph, vehicles, requests = utils.get_instance_data(instance)\n",
    "        \n",
    "        sampaio = Sampaio(graph, vehicles, requests)\n",
    "        sampaio.optimize()\n",
    "        \n",
    "        result = sampaio.get_result()\n",
    "        print('Sampaio', result)\n",
    "        utils.log_result('PDPTWT', 'Sampaio', instance.name, result)\n",
    "        \n",
    "        lyu = Lyu(graph, vehicles, requests)\n",
    "        lyu.optimize()\n",
    "        \n",
    "        result = lyu.get_result()\n",
    "        print('Lyu', result)\n",
    "        utils.log_result('PDPTWT', 'Lyu', instance.name, result)"
   ],
   "metadata": {
    "collapsed": false
   },
   "id": "b7b034a4872bb458"
  }
 ],
 "metadata": {
  "kernelspec": {
   "display_name": "Python 3",
   "language": "python",
   "name": "python3"
  },
  "language_info": {
   "codemirror_mode": {
    "name": "ipython",
    "version": 2
   },
   "file_extension": ".py",
   "mimetype": "text/x-python",
   "name": "python",
   "nbconvert_exporter": "python",
   "pygments_lexer": "ipython2",
   "version": "2.7.6"
  }
 },
 "nbformat": 4,
 "nbformat_minor": 5
}
