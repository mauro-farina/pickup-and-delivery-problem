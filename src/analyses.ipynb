{
 "cells": [
  {
   "cell_type": "code",
   "execution_count": null,
   "id": "initial_id",
   "metadata": {
    "collapsed": true
   },
   "outputs": [],
   "source": [
    "from pathlib import Path\n",
    "\n",
    "from src.lyu import Lyu\n",
    "from src.rais import Rais\n",
    "from src.sampaio import Sampaio\n",
    "\n",
    "import pandas as pd\n",
    "import utils"
   ]
  },
  {
   "cell_type": "markdown",
   "source": [
    "# PDPT"
   ],
   "metadata": {
    "collapsed": false
   },
   "id": "724f224c1d40caab"
  },
  {
   "cell_type": "code",
   "outputs": [],
   "source": [
    "pdpt_data_dir = Path(\"../data/PDPT\")\n",
    "pdpt_instances = utils.pick_pdpt_instances(5, 4)"
   ],
   "metadata": {
    "collapsed": false
   },
   "id": "27a51b81efd3192d",
   "execution_count": null
  },
  {
   "cell_type": "code",
   "outputs": [],
   "source": [
    "pdpt_instances"
   ],
   "metadata": {
    "collapsed": false
   },
   "id": "a65b58852d085678",
   "execution_count": null
  },
  {
   "cell_type": "code",
   "outputs": [],
   "source": [
    "for instances_dir in pdpt_data_dir.iterdir():\n",
    "    if not instances_dir.is_dir():\n",
    "        continue\n",
    "    \n",
    "    for instance in instances_dir.iterdir():\n",
    "        if not instance.is_file() or instance.name not in pdpt_instances:\n",
    "            continue\n",
    "\n",
    "        graph, vehicles, requests = utils.get_instance_data(instance)\n",
    "        \n",
    "        rais = Rais(graph, vehicles, requests)\n",
    "        rais.optimize()\n",
    "        \n",
    "        result = rais.get_result()\n",
    "        print('Rais', result)\n",
    "        utils.log_result('PDPT', 'Rais', instance.name, result)\n",
    "        \n",
    "        lyu = Lyu(graph, vehicles, requests)\n",
    "        lyu.optimize()\n",
    "        \n",
    "        result = lyu.get_result()\n",
    "        print('Lyu', result)\n",
    "        utils.log_result('PDPT', 'Lyu', instance.name, result)\n"
   ],
   "metadata": {
    "collapsed": false
   },
   "id": "36d5d2b23536cd9d",
   "execution_count": null
  }
 ],
 "metadata": {
  "kernelspec": {
   "display_name": "Python 3",
   "language": "python",
   "name": "python3"
  },
  "language_info": {
   "codemirror_mode": {
    "name": "ipython",
    "version": 2
   },
   "file_extension": ".py",
   "mimetype": "text/x-python",
   "name": "python",
   "nbconvert_exporter": "python",
   "pygments_lexer": "ipython2",
   "version": "2.7.6"
  }
 },
 "nbformat": 4,
 "nbformat_minor": 5
}
